{
 "cells": [
  {
   "cell_type": "code",
   "execution_count": 16,
   "id": "387e13bf-0c45-488c-986f-989b743e501c",
   "metadata": {},
   "outputs": [],
   "source": [
    "import pandas as pd\n",
    "import numpy as np\n",
    "import igraph as ig\n",
    "import os\n",
    "import pickle\n",
    "import pycountry\n",
    "import matplotlib.pyplot as plt\n",
    "import geopandas as gpd\n",
    "import cartopy.crs as ccrs"
   ]
  },
  {
   "cell_type": "code",
   "execution_count": 17,
   "id": "8bf080de-9eeb-4128-bc9d-84dcb6c05ee2",
   "metadata": {},
   "outputs": [
    {
     "data": {
      "text/plain": [
       "(508, 15333, True)"
      ]
     },
     "execution_count": 17,
     "metadata": {},
     "output_type": "execute_result"
    }
   ],
   "source": [
    "with open(\"./data/graph.pickle\", \"rb\") as f:\n",
    "    g = pickle.load(f)\n",
    "    \n",
    "g.vcount(), g.ecount(), g.is_directed()"
   ]
  },
  {
   "cell_type": "code",
   "execution_count": 18,
   "id": "bcf644c1-8cd9-49f4-9cbe-ab82afc3e32e",
   "metadata": {},
   "outputs": [],
   "source": [
    "def is_eu(country_name):\n",
    "    try:\n",
    "        country = pycountry.countries.lookup(country_name)\n",
    "        return country.alpha_2 in ('AD', 'AL', 'AM', 'AT', 'AZ', 'BA', 'BE', 'BG', 'BY', 'CH', 'CY', 'CZ', \n",
    "                                   'DE', 'DK', 'EE', 'ES', 'FI', 'FO', 'FR', 'GB', 'GE', 'GI', 'GR', 'HR', \n",
    "                                   'HU', 'IE', 'IS', 'IT', 'KZ', 'LI', 'LT', 'LU', 'LV', 'MC', 'MD', 'ME', \n",
    "                                   'MK', 'MT', 'NL', 'NO', 'PL', 'PT', 'RO', 'RS', 'RU', 'SE', 'SI', 'SK', \n",
    "                                   'SM', 'TR', 'UA', 'VA')\n",
    "    except:\n",
    "        return False"
   ]
  },
  {
   "cell_type": "code",
   "execution_count": 19,
   "id": "0e22758a-c8d5-442a-9dc8-76e10a645f56",
   "metadata": {},
   "outputs": [
    {
     "data": {
      "text/html": [
       "<div>\n",
       "<style scoped>\n",
       "    .dataframe tbody tr th:only-of-type {\n",
       "        vertical-align: middle;\n",
       "    }\n",
       "\n",
       "    .dataframe tbody tr th {\n",
       "        vertical-align: top;\n",
       "    }\n",
       "\n",
       "    .dataframe thead th {\n",
       "        text-align: right;\n",
       "    }\n",
       "</style>\n",
       "<table border=\"1\" class=\"dataframe\">\n",
       "  <thead>\n",
       "    <tr style=\"text-align: right;\">\n",
       "      <th></th>\n",
       "      <th>Airport ID</th>\n",
       "      <th>Name</th>\n",
       "      <th>City</th>\n",
       "      <th>Country</th>\n",
       "      <th>IATA</th>\n",
       "      <th>ICAO</th>\n",
       "      <th>Latitude</th>\n",
       "      <th>Longitude</th>\n",
       "      <th>Altitude</th>\n",
       "      <th>Timezone</th>\n",
       "      <th>DST</th>\n",
       "      <th>Tz database time zone</th>\n",
       "      <th>Type</th>\n",
       "      <th>Source</th>\n",
       "    </tr>\n",
       "  </thead>\n",
       "  <tbody>\n",
       "    <tr>\n",
       "      <th>0</th>\n",
       "      <td>11</td>\n",
       "      <td>Akureyri Airport</td>\n",
       "      <td>Akureyri</td>\n",
       "      <td>Iceland</td>\n",
       "      <td>AEY</td>\n",
       "      <td>BIAR</td>\n",
       "      <td>65.660004</td>\n",
       "      <td>-18.072701</td>\n",
       "      <td>6</td>\n",
       "      <td>0</td>\n",
       "      <td>N</td>\n",
       "      <td>Atlantic/Reykjavik</td>\n",
       "      <td>airport</td>\n",
       "      <td>OurAirports</td>\n",
       "    </tr>\n",
       "    <tr>\n",
       "      <th>1</th>\n",
       "      <td>12</td>\n",
       "      <td>Egilsstaðir Airport</td>\n",
       "      <td>Egilsstadir</td>\n",
       "      <td>Iceland</td>\n",
       "      <td>EGS</td>\n",
       "      <td>BIEG</td>\n",
       "      <td>65.283302</td>\n",
       "      <td>-14.401400</td>\n",
       "      <td>76</td>\n",
       "      <td>0</td>\n",
       "      <td>N</td>\n",
       "      <td>Atlantic/Reykjavik</td>\n",
       "      <td>airport</td>\n",
       "      <td>OurAirports</td>\n",
       "    </tr>\n",
       "    <tr>\n",
       "      <th>2</th>\n",
       "      <td>13</td>\n",
       "      <td>Hornafjörður Airport</td>\n",
       "      <td>Hofn</td>\n",
       "      <td>Iceland</td>\n",
       "      <td>HFN</td>\n",
       "      <td>BIHN</td>\n",
       "      <td>64.295601</td>\n",
       "      <td>-15.227200</td>\n",
       "      <td>24</td>\n",
       "      <td>0</td>\n",
       "      <td>N</td>\n",
       "      <td>Atlantic/Reykjavik</td>\n",
       "      <td>airport</td>\n",
       "      <td>OurAirports</td>\n",
       "    </tr>\n",
       "    <tr>\n",
       "      <th>3</th>\n",
       "      <td>14</td>\n",
       "      <td>Húsavík Airport</td>\n",
       "      <td>Husavik</td>\n",
       "      <td>Iceland</td>\n",
       "      <td>HZK</td>\n",
       "      <td>BIHU</td>\n",
       "      <td>65.952301</td>\n",
       "      <td>-17.426001</td>\n",
       "      <td>48</td>\n",
       "      <td>0</td>\n",
       "      <td>N</td>\n",
       "      <td>Atlantic/Reykjavik</td>\n",
       "      <td>airport</td>\n",
       "      <td>OurAirports</td>\n",
       "    </tr>\n",
       "    <tr>\n",
       "      <th>4</th>\n",
       "      <td>15</td>\n",
       "      <td>Ísafjörður Airport</td>\n",
       "      <td>Isafjordur</td>\n",
       "      <td>Iceland</td>\n",
       "      <td>IFJ</td>\n",
       "      <td>BIIS</td>\n",
       "      <td>66.058098</td>\n",
       "      <td>-23.135300</td>\n",
       "      <td>8</td>\n",
       "      <td>0</td>\n",
       "      <td>N</td>\n",
       "      <td>Atlantic/Reykjavik</td>\n",
       "      <td>airport</td>\n",
       "      <td>OurAirports</td>\n",
       "    </tr>\n",
       "  </tbody>\n",
       "</table>\n",
       "</div>"
      ],
      "text/plain": [
       "   Airport ID                  Name         City  Country IATA  ICAO  \\\n",
       "0          11      Akureyri Airport     Akureyri  Iceland  AEY  BIAR   \n",
       "1          12   Egilsstaðir Airport  Egilsstadir  Iceland  EGS  BIEG   \n",
       "2          13  Hornafjörður Airport         Hofn  Iceland  HFN  BIHN   \n",
       "3          14       Húsavík Airport      Husavik  Iceland  HZK  BIHU   \n",
       "4          15    Ísafjörður Airport   Isafjordur  Iceland  IFJ  BIIS   \n",
       "\n",
       "    Latitude  Longitude  Altitude Timezone DST Tz database time zone     Type  \\\n",
       "0  65.660004 -18.072701         6        0   N    Atlantic/Reykjavik  airport   \n",
       "1  65.283302 -14.401400        76        0   N    Atlantic/Reykjavik  airport   \n",
       "2  64.295601 -15.227200        24        0   N    Atlantic/Reykjavik  airport   \n",
       "3  65.952301 -17.426001        48        0   N    Atlantic/Reykjavik  airport   \n",
       "4  66.058098 -23.135300         8        0   N    Atlantic/Reykjavik  airport   \n",
       "\n",
       "        Source  \n",
       "0  OurAirports  \n",
       "1  OurAirports  \n",
       "2  OurAirports  \n",
       "3  OurAirports  \n",
       "4  OurAirports  "
      ]
     },
     "execution_count": 19,
     "metadata": {},
     "output_type": "execute_result"
    }
   ],
   "source": [
    "airports_df = pd.read_csv('./data/airports.csv', sep=',', engine='python')\n",
    "airports_df = airports_df[[is_eu(r['Country']) for _, r in airports_df.iterrows()]]\n",
    "airports_df = airports_df.reset_index(drop=True)\n",
    "airports_df.head()"
   ]
  },
  {
   "cell_type": "code",
   "execution_count": 20,
   "id": "510f1233-dc6f-4bb3-9ca1-dacc331f607f",
   "metadata": {},
   "outputs": [
    {
     "ename": "NameError",
     "evalue": "name 'vertex' is not defined",
     "output_type": "error",
     "traceback": [
      "\u001b[1;31m---------------------------------------------------------------------------\u001b[0m",
      "\u001b[1;31mNameError\u001b[0m                                 Traceback (most recent call last)",
      "Cell \u001b[1;32mIn[20], line 5\u001b[0m\n\u001b[0;32m      3\u001b[0m lats\u001b[38;5;241m.\u001b[39mappend(node[\u001b[38;5;124m'\u001b[39m\u001b[38;5;124mlat\u001b[39m\u001b[38;5;124m'\u001b[39m])\n\u001b[0;32m      4\u001b[0m lons\u001b[38;5;241m.\u001b[39mappend(node[\u001b[38;5;124m'\u001b[39m\u001b[38;5;124mlon\u001b[39m\u001b[38;5;124m'\u001b[39m])\n\u001b[1;32m----> 5\u001b[0m sizes\u001b[38;5;241m.\u001b[39mappend(g\u001b[38;5;241m.\u001b[39mdegree(\u001b[43mvertex\u001b[49m))\n",
      "\u001b[1;31mNameError\u001b[0m: name 'vertex' is not defined"
     ]
    }
   ],
   "source": [
    "lats, lons, sizes = [], [], []\n",
    "for node in g.vs:\n",
    "    lats.append(node['lat'])\n",
    "    lons.append(node['lon'])\n",
    "    sizes.append(g.degree(node))"
   ]
  },
  {
   "cell_type": "code",
   "execution_count": null,
   "id": "b0b1e12e-c9d7-4a2e-a7cd-ba92c9ab9fdb",
   "metadata": {},
   "outputs": [],
   "source": [
    "world = gpd.read_file(gpd.datasets.get_path('naturalearth_lowres'))\n",
    "europe = world[world.continent == 'Europe']\n",
    "\n",
    "fig, ax = plt.subplots(figsize=(10, 10), subplot_kw={'projection': ccrs.PlateCarree()})\n",
    "ax.set_extent([-12, 35, 35, 72], crs=ccrs.PlateCarree())\n",
    "ax.add_geometries(europe.geometry, crs=ccrs.PlateCarree(), edgecolor='black', facecolor='none')\n",
    "ax.scatter(lons, lats, s=sizes, color='red', transform=ccrs.PlateCarree())\n",
    "plt.show()"
   ]
  },
  {
   "cell_type": "code",
   "execution_count": null,
   "id": "8a32d793-805d-40ab-a893-9e2408d61eb6",
   "metadata": {},
   "outputs": [],
   "source": [
    "g.degree(1382)"
   ]
  },
  {
   "cell_type": "code",
   "execution_count": null,
   "id": "fb0a475a-39cf-410f-9ffb-124aea184164",
   "metadata": {},
   "outputs": [],
   "source": []
  }
 ],
 "metadata": {
  "kernelspec": {
   "display_name": "Python 3 (ipykernel)",
   "language": "python",
   "name": "python3"
  },
  "language_info": {
   "codemirror_mode": {
    "name": "ipython",
    "version": 3
   },
   "file_extension": ".py",
   "mimetype": "text/x-python",
   "name": "python",
   "nbconvert_exporter": "python",
   "pygments_lexer": "ipython3",
   "version": "3.9.13"
  }
 },
 "nbformat": 4,
 "nbformat_minor": 5
}
