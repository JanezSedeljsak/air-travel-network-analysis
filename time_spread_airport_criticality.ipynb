{
 "cells": [
  {
   "cell_type": "code",
   "execution_count": 9,
   "id": "initial_id",
   "metadata": {
    "collapsed": true,
    "ExecuteTime": {
     "end_time": "2024-05-30T16:07:31.730864Z",
     "start_time": "2024-05-30T16:07:31.625700Z"
    }
   },
   "outputs": [],
   "source": [
    "import pandas as pd\n",
    "import os\n",
    "import pickle"
   ]
  },
  {
   "cell_type": "code",
   "outputs": [
    {
     "name": "stdout",
     "output_type": "stream",
     "text": [
      "['China']\n"
     ]
    }
   ],
   "source": [
    "data = pd.read_csv('./data/time_series_covid19_confirmed_global.csv')\n",
    "c = data.groupby(data.columns[1]).sum()\n",
    "df = c.drop(['Lat', 'Long', 'Province/State'], axis=1)\n",
    "\n",
    "def first_non_zero_index(row):\n",
    "    non_zero_indices = row.to_numpy().nonzero()[0]\n",
    "    return non_zero_indices[0] if len(non_zero_indices) > 0 else -1\n",
    "\n",
    "first_infected = df.apply(first_non_zero_index, axis=1).nsmallest(1).index\n",
    "print(first_infected.values)"
   ],
   "metadata": {
    "collapsed": false,
    "ExecuteTime": {
     "end_time": "2024-05-30T16:07:31.969501Z",
     "start_time": "2024-05-30T16:07:31.750867Z"
    }
   },
   "id": "b6b32590a07ca5c0",
   "execution_count": 10
  },
  {
   "cell_type": "code",
   "outputs": [],
   "source": [
    "airports_df = pd.read_csv('./data/airports.csv', sep=',', engine='python')\n",
    "infected_airports = set()\n",
    "for infected in first_infected:\n",
    "    infected_airports.update(set(airports_df[airports_df['Country'] == infected]['IATA']))\n",
    "infected_airports.remove('\\\\N')\n"
   ],
   "metadata": {
    "collapsed": false,
    "ExecuteTime": {
     "end_time": "2024-05-30T16:07:32.442065Z",
     "start_time": "2024-05-30T16:07:31.970063Z"
    }
   },
   "id": "d31239430826046d",
   "execution_count": 11
  },
  {
   "cell_type": "code",
   "outputs": [],
   "source": [
    "import networkx as nx\n",
    "import pandas as pd\n",
    "import plotly.graph_objects as go\n",
    "import plotly.io as pio\n",
    "from plotly.express import colors\n",
    "from plotly.colors import sample_colorscale\n",
    "\n",
    "G = nx.DiGraph()\n",
    "t  = airports_df.drop_duplicates(subset='Country', keep='first')\n",
    "for _, row in t.iterrows():\n",
    "    G.add_node(row['Country'], Lat = row['Latitude'], Long = row['Longitude'])\n",
    "\n",
    "routes_df = pd.read_csv('./data/routes.csv', sep=',', engine='python')"
   ],
   "metadata": {
    "collapsed": false,
    "ExecuteTime": {
     "end_time": "2024-05-30T16:07:32.695070Z",
     "start_time": "2024-05-30T16:07:32.442943Z"
    }
   },
   "id": "d2043a426db3108d",
   "execution_count": 12
  },
  {
   "cell_type": "code",
   "outputs": [],
   "source": [
    "\n",
    "infecting_countries = set()\n",
    "# for infected airport, connect country that has flight from infected airport\n",
    "for infected_airport in infected_airports:\n",
    "    source_ctry = airports_df[airports_df['IATA'] == infected_airport]['Country'].iloc[0]\n",
    "    infecting_countries.add(source_ctry)\n",
    "    potentially_infected = routes_df[routes_df['Source airport'] == infected_airport]['Destination airport']\n",
    "    potentialy_infected_countries = set()\n",
    "    for candidate in potentially_infected:\n",
    "        if len(airports_df[airports_df['IATA'] == candidate]['Country']):\n",
    "            potentialy_infected_countries.add(airports_df[airports_df['IATA'] == candidate]['Country'].iloc[0])\n",
    "        \n",
    "    for c in potentialy_infected_countries:\n",
    "        if c != source_ctry:\n",
    "            G.add_edge(source_ctry, c, source_ctry=source_ctry)\n",
    "        "
   ],
   "metadata": {
    "collapsed": false,
    "ExecuteTime": {
     "end_time": "2024-05-30T16:07:40.036345Z",
     "start_time": "2024-05-30T16:07:32.696769Z"
    }
   },
   "id": "6b32fd736000c9f2",
   "execution_count": 13
  },
  {
   "cell_type": "code",
   "outputs": [],
   "source": [
    "\n",
    "num_colors = len(infecting_countries)\n",
    "color_scale = sample_colorscale('Viridis', [n / num_colors for n in range(num_colors)])\n",
    "\n",
    "# Assign colors to each group (first case date)\n",
    "color_map = {ctry: color_scale[i % num_colors] for i, ctry in enumerate(infecting_countries)}\n",
    "    \n",
    "for node in G.nodes:\n",
    "    try:\n",
    "        G.nodes[node]\n",
    "    except KeyError:\n",
    "        pass\n",
    "    \n",
    "node_trace = go.Scattergeo(\n",
    "    lon=[G.nodes[node]['Long'] for node in G.nodes],\n",
    "    lat=[G.nodes[node]['Lat'] for node in G.nodes],\n",
    "    # text=[f\"{node}<br>First Case: {G.nodes[node]['first_case_date']}<br>Province or state: {G.nodes[node]['province_state']}\" for node in G.nodes], #.date()\n",
    "    mode='markers',\n",
    "    marker=dict(\n",
    "        size=[1 for node in G.nodes],\n",
    "        color=[color_map[node] for node in infecting_countries],\n",
    "        opacity=0.7,\n",
    "        colorscale='Viridis',\n",
    "        colorbar=dict(title='First Case Date')\n",
    "    )\n",
    ")"
   ],
   "metadata": {
    "collapsed": false,
    "ExecuteTime": {
     "end_time": "2024-05-30T16:07:40.051633Z",
     "start_time": "2024-05-30T16:07:40.038276Z"
    }
   },
   "id": "16ebf1e500a7f807",
   "execution_count": 14
  },
  {
   "cell_type": "code",
   "outputs": [],
   "source": [
    "\n",
    "# Create edge traces\n",
    "edge_traces = []\n",
    "for edge in G.edges():\n",
    "    x0, y0 = G.nodes[edge[0]]['Long'], G.nodes[edge[0]]['Lat']\n",
    "    x1, y1 = G.nodes[edge[1]]['Long'], G.nodes[edge[1]]['Lat']\n",
    "    #print(edge('date'))\n",
    "    edge_color = color_map[edge[0]]\n",
    "    edge_trace = go.Scattergeo(\n",
    "        lon=[x0, x1, None],\n",
    "        lat=[y0, y1, None],\n",
    "        mode='lines',\n",
    "        line=dict(width=0.5, color=edge_color),#dict(width=0.5, color='gray'),\n",
    "        opacity=0.5\n",
    "    )\n",
    "    edge_traces.append(edge_trace)\n"
   ],
   "metadata": {
    "collapsed": false,
    "ExecuteTime": {
     "end_time": "2024-05-30T16:07:40.060611Z",
     "start_time": "2024-05-30T16:07:40.052620Z"
    }
   },
   "id": "c1fc2d3ba9e5089c",
   "execution_count": 15
  },
  {
   "cell_type": "code",
   "outputs": [
    {
     "data": {
      "application/vnd.plotly.v1+json": {
       "data": [
        {
         "lat": [
          40.0801010131836,
          27.505684999999996,
          null
         ],
         "line": {
          "color": "rgb(68, 1, 84)",
          "width": 0.5
         },
         "lon": [
          116.58499908447266,
          83.41629300000001,
          null
         ],
         "mode": "lines",
         "opacity": 0.5,
         "type": "scattergeo"
        },
        {
         "lat": [
          40.0801010131836,
          52.308601,
          null
         ],
         "line": {
          "color": "rgb(68, 1, 84)",
          "width": 0.5
         },
         "lon": [
          116.58499908447266,
          4.76389,
          null
         ],
         "mode": "lines",
         "opacity": 0.5,
         "type": "scattergeo"
        },
        {
         "lat": [
          40.0801010131836,
          30.371099471999997,
          null
         ],
         "line": {
          "color": "rgb(68, 1, 84)",
          "width": 0.5
         },
         "lon": [
          116.58499908447266,
          48.2282981873,
          null
         ],
         "mode": "lines",
         "opacity": 0.5,
         "type": "scattergeo"
        },
        {
         "lat": [
          40.0801010131836,
          1.4252599477767944,
          null
         ],
         "line": {
          "color": "rgb(68, 1, 84)",
          "width": 0.5
         },
         "lon": [
          116.58499908447266,
          103.81300354003906,
          null
         ],
         "mode": "lines",
         "opacity": 0.5,
         "type": "scattergeo"
        },
        {
         "lat": [
          40.0801010131836,
          3.1238501071900004,
          null
         ],
         "line": {
          "color": "rgb(68, 1, 84)",
          "width": 0.5
         },
         "lon": [
          116.58499908447266,
          113.019996643,
          null
         ],
         "mode": "lines",
         "opacity": 0.5,
         "type": "scattergeo"
        },
        {
         "lat": [
          40.0801010131836,
          12.255200386,
          null
         ],
         "line": {
          "color": "rgb(68, 1, 84)",
          "width": 0.5
         },
         "lon": [
          116.58499908447266,
          104.564002991,
          null
         ],
         "mode": "lines",
         "opacity": 0.5,
         "type": "scattergeo"
        },
        {
         "lat": [
          40.0801010131836,
          54.6575012207,
          null
         ],
         "line": {
          "color": "rgb(68, 1, 84)",
          "width": 0.5
         },
         "lon": [
          116.58499908447266,
          -6.21582984924,
          null
         ],
         "mode": "lines",
         "opacity": 0.5,
         "type": "scattergeo"
        },
        {
         "lat": [
          40.0801010131836,
          47.0839004517,
          null
         ],
         "line": {
          "color": "rgb(68, 1, 84)",
          "width": 0.5
         },
         "lon": [
          116.58499908447266,
          6.79284000397,
          null
         ],
         "mode": "lines",
         "opacity": 0.5,
         "type": "scattergeo"
        },
        {
         "lat": [
          40.0801010131836,
          -5.061629772186278,
          null
         ],
         "line": {
          "color": "rgb(68, 1, 84)",
          "width": 0.5
         },
         "lon": [
          116.58499908447266,
          119.5540008544922,
          null
         ],
         "mode": "lines",
         "opacity": 0.5,
         "type": "scattergeo"
        },
        {
         "lat": [
          40.0801010131836,
          51.193611,
          null
         ],
         "line": {
          "color": "rgb(68, 1, 84)",
          "width": 0.5
         },
         "lon": [
          116.58499908447266,
          14.519722,
          null
         ],
         "mode": "lines",
         "opacity": 0.5,
         "type": "scattergeo"
        },
        {
         "lat": [
          40.0801010131836,
          14.5086,
          null
         ],
         "line": {
          "color": "rgb(68, 1, 84)",
          "width": 0.5
         },
         "lon": [
          116.58499908447266,
          121.019997,
          null
         ],
         "mode": "lines",
         "opacity": 0.5,
         "type": "scattergeo"
        },
        {
         "lat": [
          40.0801010131836,
          39.9350013733,
          null
         ],
         "line": {
          "color": "rgb(68, 1, 84)",
          "width": 0.5
         },
         "lon": [
          116.58499908447266,
          32.7407989502,
          null
         ],
         "mode": "lines",
         "opacity": 0.5,
         "type": "scattergeo"
        },
        {
         "lat": [
          40.0801010131836,
          41.541401,
          null
         ],
         "line": {
          "color": "rgb(68, 1, 84)",
          "width": 0.5
         },
         "lon": [
          116.58499908447266,
          15.7181,
          null
         ],
         "mode": "lines",
         "opacity": 0.5,
         "type": "scattergeo"
        },
        {
         "lat": [
          40.0801010131836,
          4.944200038909912,
          null
         ],
         "line": {
          "color": "rgb(68, 1, 84)",
          "width": 0.5
         },
         "lon": [
          116.58499908447266,
          114.9280014038086,
          null
         ],
         "mode": "lines",
         "opacity": 0.5,
         "type": "scattergeo"
        },
        {
         "lat": [
          40.0801010131836,
          16.757099151611328,
          null
         ],
         "line": {
          "color": "rgb(68, 1, 84)",
          "width": 0.5
         },
         "lon": [
          116.58499908447266,
          -99.75399780273438,
          null
         ],
         "mode": "lines",
         "opacity": 0.5,
         "type": "scattergeo"
        },
        {
         "lat": [
          40.0801010131836,
          35.764701843299996,
          null
         ],
         "line": {
          "color": "rgb(68, 1, 84)",
          "width": 0.5
         },
         "lon": [
          116.58499908447266,
          140.386001587,
          null
         ],
         "mode": "lines",
         "opacity": 0.5,
         "type": "scattergeo"
        },
        {
         "lat": [
          40.0801010131836,
          24.433000564575195,
          null
         ],
         "line": {
          "color": "rgb(68, 1, 84)",
          "width": 0.5
         },
         "lon": [
          116.58499908447266,
          54.651100158691406,
          null
         ],
         "mode": "lines",
         "opacity": 0.5,
         "type": "scattergeo"
        },
        {
         "lat": [
          40.0801010131836,
          25.261101,
          null
         ],
         "line": {
          "color": "rgb(68, 1, 84)",
          "width": 0.5
         },
         "lon": [
          116.58499908447266,
          51.565102,
          null
         ],
         "mode": "lines",
         "opacity": 0.5,
         "type": "scattergeo"
        },
        {
         "lat": [
          40.0801010131836,
          68.36260223388699,
          null
         ],
         "line": {
          "color": "rgb(68, 1, 84)",
          "width": 0.5
         },
         "lon": [
          116.58499908447266,
          23.424299240112,
          null
         ],
         "mode": "lines",
         "opacity": 0.5,
         "type": "scattergeo"
        },
        {
         "lat": [
          40.0801010131836,
          22.308901,
          null
         ],
         "line": {
          "color": "rgb(68, 1, 84)",
          "width": 0.5
         },
         "lon": [
          116.58499908447266,
          113.915001,
          null
         ],
         "mode": "lines",
         "opacity": 0.5,
         "type": "scattergeo"
        },
        {
         "lat": [
          40.0801010131836,
          13.9125995636,
          null
         ],
         "line": {
          "color": "rgb(68, 1, 84)",
          "width": 0.5
         },
         "lon": [
          116.58499908447266,
          100.607002258,
          null
         ],
         "mode": "lines",
         "opacity": 0.5,
         "type": "scattergeo"
        },
        {
         "lat": [
          40.0801010131836,
          7.180759906768799,
          null
         ],
         "line": {
          "color": "rgb(68, 1, 84)",
          "width": 0.5
         },
         "lon": [
          116.58499908447266,
          79.88410186767578,
          null
         ],
         "mode": "lines",
         "opacity": 0.5,
         "type": "scattergeo"
        },
        {
         "lat": [
          40.0801010131836,
          14.17430019378662,
          null
         ],
         "line": {
          "color": "rgb(68, 1, 84)",
          "width": 0.5
         },
         "lon": [
          116.58499908447266,
          145.2429962158203,
          null
         ],
         "mode": "lines",
         "opacity": 0.5,
         "type": "scattergeo"
        },
        {
         "lat": [
          40.0801010131836,
          70.13400268550001,
          null
         ],
         "line": {
          "color": "rgb(68, 1, 84)",
          "width": 0.5
         },
         "lon": [
          116.58499908447266,
          -143.582000732,
          null
         ],
         "mode": "lines",
         "opacity": 0.5,
         "type": "scattergeo"
        },
        {
         "lat": [
          40.0801010131836,
          16.043899536132812,
          null
         ],
         "line": {
          "color": "rgb(68, 1, 84)",
          "width": 0.5
         },
         "lon": [
          116.58499908447266,
          108.1989974975586,
          null
         ],
         "mode": "lines",
         "opacity": 0.5,
         "type": "scattergeo"
        },
        {
         "lat": [
          40.0801010131836,
          62.093299865722656,
          null
         ],
         "line": {
          "color": "rgb(68, 1, 84)",
          "width": 0.5
         },
         "lon": [
          116.58499908447266,
          129.77099609375,
          null
         ],
         "mode": "lines",
         "opacity": 0.5,
         "type": "scattergeo"
        },
        {
         "lat": [
          40.0801010131836,
          46.48500061035156,
          null
         ],
         "line": {
          "color": "rgb(68, 1, 84)",
          "width": 0.5
         },
         "lon": [
          116.58499908447266,
          -84.5093994140625,
          null
         ],
         "mode": "lines",
         "opacity": 0.5,
         "type": "scattergeo"
        },
        {
         "lat": [
          40.0801010131836,
          35.123173,
          null
         ],
         "line": {
          "color": "rgb(68, 1, 84)",
          "width": 0.5
         },
         "lon": [
          116.58499908447266,
          126.805444,
          null
         ],
         "mode": "lines",
         "opacity": 0.5,
         "type": "scattergeo"
        },
        {
         "lat": [
          40.0801010131836,
          -27.5702991486,
          null
         ],
         "line": {
          "color": "rgb(68, 1, 84)",
          "width": 0.5
         },
         "lon": [
          116.58499908447266,
          153.007995605,
          null
         ],
         "mode": "lines",
         "opacity": 0.5,
         "type": "scattergeo"
        },
        {
         "lat": [
          40.0801010131836,
          23.0771999359,
          null
         ],
         "line": {
          "color": "rgb(68, 1, 84)",
          "width": 0.5
         },
         "lon": [
          116.58499908447266,
          72.63469696039998,
          null
         ],
         "mode": "lines",
         "opacity": 0.5,
         "type": "scattergeo"
        },
        {
         "lat": [
          40.0801010131836,
          4.1918301582336435,
          null
         ],
         "line": {
          "color": "rgb(68, 1, 84)",
          "width": 0.5
         },
         "lon": [
          116.58499908447266,
          73.52909851074219,
          null
         ],
         "mode": "lines",
         "opacity": 0.5,
         "type": "scattergeo"
        },
        {
         "lat": [
          40.0801010131836,
          50.96210098266602,
          null
         ],
         "line": {
          "color": "rgb(68, 1, 84)",
          "width": 0.5
         },
         "lon": [
          116.58499908447266,
          1.954759955406189,
          null
         ],
         "mode": "lines",
         "opacity": 0.5,
         "type": "scattergeo"
        },
        {
         "lat": [
          40.0801010131836,
          -20.430201,
          null
         ],
         "line": {
          "color": "rgb(68, 1, 84)",
          "width": 0.5
         },
         "lon": [
          116.58499908447266,
          57.683601,
          null
         ],
         "mode": "lines",
         "opacity": 0.5,
         "type": "scattergeo"
        },
        {
         "lat": [
          40.0801010131836,
          8.97789001465,
          null
         ],
         "line": {
          "color": "rgb(68, 1, 84)",
          "width": 0.5
         },
         "lon": [
          116.58499908447266,
          38.7993011475,
          null
         ],
         "mode": "lines",
         "opacity": 0.5,
         "type": "scattergeo"
        },
        {
         "lat": [
          40.0801010131836,
          24.4279,
          null
         ],
         "line": {
          "color": "rgb(68, 1, 84)",
          "width": 0.5
         },
         "lon": [
          116.58499908447266,
          118.359001,
          null
         ],
         "mode": "lines",
         "opacity": 0.5,
         "type": "scattergeo"
        },
        {
         "lat": [
          40.0801010131836,
          22.149599,
          null
         ],
         "line": {
          "color": "rgb(68, 1, 84)",
          "width": 0.5
         },
         "lon": [
          116.58499908447266,
          113.592003,
          null
         ],
         "mode": "lines",
         "opacity": 0.5,
         "type": "scattergeo"
        },
        {
         "lat": [
          40.0801010131836,
          -37.0080986023,
          null
         ],
         "line": {
          "color": "rgb(68, 1, 84)",
          "width": 0.5
         },
         "lon": [
          116.58499908447266,
          174.792007446,
          null
         ],
         "mode": "lines",
         "opacity": 0.5,
         "type": "scattergeo"
        },
        {
         "lat": [
          40.0801010131836,
          56.2999992371,
          null
         ],
         "line": {
          "color": "rgb(68, 1, 84)",
          "width": 0.5
         },
         "lon": [
          116.58499908447266,
          10.619000434899998,
          null
         ],
         "mode": "lines",
         "opacity": 0.5,
         "type": "scattergeo"
        },
        {
         "lat": [
          40.0801010131836,
          19.769199,
          null
         ],
         "line": {
          "color": "rgb(68, 1, 84)",
          "width": 0.5
         },
         "lon": [
          116.58499908447266,
          94.0261,
          null
         ],
         "mode": "lines",
         "opacity": 0.5,
         "type": "scattergeo"
        },
        {
         "lat": [
          40.0801010131836,
          19.897300720214844,
          null
         ],
         "line": {
          "color": "rgb(68, 1, 84)",
          "width": 0.5
         },
         "lon": [
          116.58499908447266,
          102.16100311279295,
          null
         ],
         "mode": "lines",
         "opacity": 0.5,
         "type": "scattergeo"
        },
        {
         "lat": [
          40.0801010131836,
          21.45219993591309,
          null
         ],
         "line": {
          "color": "rgb(68, 1, 84)",
          "width": 0.5
         },
         "lon": [
          116.58499908447266,
          91.96389770507812,
          null
         ],
         "mode": "lines",
         "opacity": 0.5,
         "type": "scattergeo"
        },
        {
         "lat": [
          40.0801010131836,
          47.843102,
          null
         ],
         "line": {
          "color": "rgb(68, 1, 84)",
          "width": 0.5
         },
         "lon": [
          116.58499908447266,
          106.766998,
          null
         ],
         "mode": "lines",
         "opacity": 0.5,
         "type": "scattergeo"
        },
        {
         "lat": [
          40.0801010131836,
          32.056098938000005,
          null
         ],
         "line": {
          "color": "rgb(68, 1, 84)",
          "width": 0.5
         },
         "lon": [
          116.58499908447266,
          72.94840240479999,
          null
         ],
         "mode": "lines",
         "opacity": 0.5,
         "type": "scattergeo"
        },
        {
         "lat": [
          40.0801010131836,
          39.775001525878906,
          null
         ],
         "line": {
          "color": "rgb(68, 1, 84)",
          "width": 0.5
         },
         "lon": [
          116.58499908447266,
          64.48329925537111,
          null
         ],
         "mode": "lines",
         "opacity": 0.5,
         "type": "scattergeo"
        },
        {
         "lat": [
          40.0801010131836,
          51.1893997192,
          null
         ],
         "line": {
          "color": "rgb(68, 1, 84)",
          "width": 0.5
         },
         "lon": [
          116.58499908447266,
          4.46027994156,
          null
         ],
         "mode": "lines",
         "opacity": 0.5,
         "type": "scattergeo"
        },
        {
         "lat": [
          40.0801010131836,
          31.183900833129886,
          null
         ],
         "line": {
          "color": "rgb(68, 1, 84)",
          "width": 0.5
         },
         "lon": [
          116.58499908447266,
          29.94890022277832,
          null
         ],
         "mode": "lines",
         "opacity": 0.5,
         "type": "scattergeo"
        },
        {
         "lat": [
          40.0801010131836,
          -28.575001,
          null
         ],
         "line": {
          "color": "rgb(68, 1, 84)",
          "width": 0.5
         },
         "lon": [
          116.58499908447266,
          16.5333,
          null
         ],
         "mode": "lines",
         "opacity": 0.5,
         "type": "scattergeo"
        },
        {
         "lat": [
          40.0801010131836,
          52.26850128173828,
          null
         ],
         "line": {
          "color": "rgb(68, 1, 84)",
          "width": 0.5
         },
         "lon": [
          116.58499908447266,
          20.910999298095703,
          null
         ],
         "mode": "lines",
         "opacity": 0.5,
         "type": "scattergeo"
        },
        {
         "lat": [
          40.0801010131836,
          43.35210037231445,
          null
         ],
         "line": {
          "color": "rgb(68, 1, 84)",
          "width": 0.5
         },
         "lon": [
          116.58499908447266,
          77.04049682617188,
          null
         ],
         "mode": "lines",
         "opacity": 0.5,
         "type": "scattergeo"
        },
        {
         "lat": [
          40.0801010131836,
          39.224098,
          null
         ],
         "line": {
          "color": "rgb(68, 1, 84)",
          "width": 0.5
         },
         "lon": [
          116.58499908447266,
          125.669998,
          null
         ],
         "mode": "lines",
         "opacity": 0.5,
         "type": "scattergeo"
        },
        {
         "lat": [
          40.0801010131836,
          28.452699661254886,
          null
         ],
         "line": {
          "color": "rgb(68, 1, 84)",
          "width": 0.5
         },
         "lon": [
          116.58499908447266,
          -13.863800048828123,
          null
         ],
         "mode": "lines",
         "opacity": 0.5,
         "type": "scattergeo"
        },
        {
         "lat": [
          40.0801010131836,
          -6.269899845123291,
          null
         ],
         "line": {
          "color": "rgb(68, 1, 84)",
          "width": 0.5
         },
         "lon": [
          116.58499908447266,
          14.246999740600586,
          null
         ],
         "mode": "lines",
         "opacity": 0.5,
         "type": "scattergeo"
        },
        {
         "lat": [
          40.0801010131836,
          40.46749877929688,
          null
         ],
         "line": {
          "color": "rgb(68, 1, 84)",
          "width": 0.5
         },
         "lon": [
          116.58499908447266,
          50.04669952392578,
          null
         ],
         "mode": "lines",
         "opacity": 0.5,
         "type": "scattergeo"
        },
        {
         "lat": [
          40.0801010131836,
          58.40230178833008,
          null
         ],
         "line": {
          "color": "rgb(68, 1, 84)",
          "width": 0.5
         },
         "lon": [
          116.58499908447266,
          15.525699615478516,
          null
         ],
         "mode": "lines",
         "opacity": 0.5,
         "type": "scattergeo"
        },
        {
         "lat": [
          40.0801010131836,
          47.843299865722656,
          null
         ],
         "line": {
          "color": "rgb(68, 1, 84)",
          "width": 0.5
         },
         "lon": [
          116.58499908447266,
          16.260099411010742,
          null
         ],
         "mode": "lines",
         "opacity": 0.5,
         "type": "scattergeo"
        },
        {
         "lat": [
          40.0801010131836,
          36.50360107421875,
          null
         ],
         "line": {
          "color": "rgb(68, 1, 84)",
          "width": 0.5
         },
         "lon": [
          116.58499908447266,
          2.814169883728028,
          null
         ],
         "mode": "lines",
         "opacity": 0.5,
         "type": "scattergeo"
        },
        {
         "lat": [
          40.0801010131836,
          32.011398315429695,
          null
         ],
         "line": {
          "color": "rgb(68, 1, 84)",
          "width": 0.5
         },
         "lon": [
          116.58499908447266,
          34.88669967651367,
          null
         ],
         "mode": "lines",
         "opacity": 0.5,
         "type": "scattergeo"
        },
        {
         "lat": [
          40.0801010131836,
          38.5433006287,
          null
         ],
         "line": {
          "color": "rgb(68, 1, 84)",
          "width": 0.5
         },
         "lon": [
          116.58499908447266,
          68.8249969482,
          null
         ],
         "mode": "lines",
         "opacity": 0.5,
         "type": "scattergeo"
        },
        {
         "lat": [
          40.0801010131836,
          41.6102981567,
          null
         ],
         "line": {
          "color": "rgb(68, 1, 84)",
          "width": 0.5
         },
         "lon": [
          116.58499908447266,
          41.5997009277,
          null
         ],
         "mode": "lines",
         "opacity": 0.5,
         "type": "scattergeo"
        },
        {
         "lat": [
          40.0801010131836,
          37.986801,
          null
         ],
         "line": {
          "color": "rgb(68, 1, 84)",
          "width": 0.5
         },
         "lon": [
          116.58499908447266,
          58.361,
          null
         ],
         "mode": "lines",
         "opacity": 0.5,
         "type": "scattergeo"
        },
        {
         "lat": [
          40.0801010131836,
          43.0612983704,
          null
         ],
         "line": {
          "color": "rgb(68, 1, 84)",
          "width": 0.5
         },
         "lon": [
          116.58499908447266,
          74.4776000977,
          null
         ],
         "mode": "lines",
         "opacity": 0.5,
         "type": "scattergeo"
        },
        {
         "lat": [
          40.0801010131836,
          0.4044579863548279,
          null
         ],
         "line": {
          "color": "rgb(68, 1, 84)",
          "width": 0.5
         },
         "lon": [
          116.58499908447266,
          35.23889923095703,
          null
         ],
         "mode": "lines",
         "opacity": 0.5,
         "type": "scattergeo"
        },
        {
         "lat": [
          40.0801010131836,
          18.2404003143,
          null
         ],
         "line": {
          "color": "rgb(68, 1, 84)",
          "width": 0.5
         },
         "lon": [
          116.58499908447266,
          42.65660095210001,
          null
         ],
         "mode": "lines",
         "opacity": 0.5,
         "type": "scattergeo"
        },
        {
         "lat": [
          -6.0816898345900015,
          61.1604995728,
          65.66000366210939,
          46.48500061035156,
          36.50360107421875,
          6.357230186462402,
          12.3532,
          5.605189800262451,
          5.261390209197998,
          9.006790161132812,
          13.5024995803833,
          35.75809860229492,
          9.767330169677734,
          51.1893997192,
          51.193611,
          59.26029968261719,
          68.36260223388699,
          54.6575012207,
          49.706104,
          49.20790100097656,
          54.08330154418945,
          -51.82279968261719,
          52.308601,
          51.84130096435547,
          56.2999992371,
          62.0635986328125,
          49.6233333,
          62.5625,
          52.26850128173828,
          58.40230178833008,
          -28.575001,
          -21.15959930419922,
          -4.251699924468993,
          -0.5313500165939331,
          -26.52899932861328,
          4.39847993850708,
          1.9054700136184688,
          -7.9696,
          -20.430201,
          -7.313269999999999,
          4.08919000626,
          -12.572799682617,
          -11.5337,
          -12.804699897766112,
          -20.88710021972656,
          -18.7969,
          -6.269899845123291,
          1.5431100130081177,
          1.6629400253295898,
          -19.79640007019043,
          -7.00478,
          13.847000122070312,
          -20.017401,
          -15.679100036621096,
          -29.462299346923828,
          12.5335,
          13.338000297546388,
          28.452699661254886,
          8.616439999999999,
          11.2878999710083,
          6.289060115814209,
          30.32500076293945,
          12.5556,
          16.711299896240234,
          10.350600242615,
          16.7414,
          8.97789001465,
          -3.3240199089050293,
          9.518170356750488,
          31.183900833129886,
          0.4044579863548279,
          28.79540061950684,
          -1.6771999597549438,
          19.1539001465,
          4.87201023102,
          -3.3677899837493896,
          0.042386,
          41.4146995544,
          42.56959915161133,
          34.875099182128906,
          42.5614013671875,
          50.96210098266602,
          47.095500946,
          37.9207,
          47.429759999999995,
          41.541401,
          45.900001525879,
          48.9463996887207,
          32.011398315429695,
          35.857498,
          47.843299865722656,
          38.883301,
          43.282901763916016,
          46.17660140991211,
          47.0839004517,
          39.9350013733,
          47.843056,
          41.18,
          36.1511993408,
          44.8184013367,
          42.359402,
          48.17020034790039,
          21.9175,
          19.198600769,
          15.47350025177002,
          15.7425,
          18.404199600219727,
          16.757099151611328,
          11.991000175476074,
          9.340849876403809,
          9.163949,
          13.4409,
          18.27109909057617,
          20.36529922485352,
          19.687000274658203,
          24.287700653076172,
          17.539100646972653,
          -18.830900192260746,
          -17.755399703979492,
          -21.241199493408203,
          1.3816399574279783,
          -13.2383003235,
          -13.829999923706056,
          -14.3310003281,
          -22.43409919738769,
          -17.699300765991,
          -21.05430030822754,
          -37.0080986023,
          -90.0,
          34.209999084472656,
          26.27079963684082,
          18.2404003143,
          30.371099471999997,
          31.7226009369,
          31.864700317382997,
          29.226600646972656,
          33.820899963378906,
          24.433000564575195,
          26.17099952697754,
          32.056098938000005,
          30.54910087585449,
          36.18069839477539,
          25.261101,
          14.17430019378662,
          13.584,
          7.064760208129883,
          28.20170021057129,
          7.461870193481445,
          7.367310000000001,
          24.4279,
          35.764701843299996,
          35.123173,
          14.5086,
          -31.2969,
          -8.348349571228027,
          -18.348499,
          -1.2120699882507324,
          -25.239999771118164,
          4.452780000000001,
          -22.7733001709,
          5.4528298378,
          4.819809913639999,
          -5.256770133972168,
          -34.7892,
          9.553375244140623,
          5.96592,
          17.1367,
          13.0746002197,
          15.336700439453123,
          14.590999603271484,
          18.099899291992,
          12.004199981689451,
          18.337299346923828,
          18.49489974975586,
          17.311199188232422,
          14.0202,
          12.5014,
          12.130999565124512,
          18.2048,
          11.149700164794922,
          18.444799423217773,
          12.699000000000002,
          43.35210037231445,
          43.0612983704,
          40.46749877929688,
          62.093299865722656,
          50.34500122070313,
          52.5270004272461,
          37.986801,
          38.5433006287,
          39.775001525878906,
          23.0771999359,
          7.180759906768799,
          12.255200386,
          21.45219993591309,
          22.308901,
          19.897300720214844,
          22.149599,
          27.505684999999996,
          27.4032001495,
          4.1918301582336435,
          13.9125995636,
          16.043899536132812,
          19.769199,
          -5.061629772186278,
          3.1238501071900004,
          4.944200038909912,
          -9.30331039428711,
          1.4252599477767944,
          -27.5702991486,
          -10.450599670410156,
          -29.04159927368164,
          40.0801010131836,
          39.224098,
          47.843102,
          70.13400268550001,
          56.51750183105469,
          55.89390182495117,
          40.1221008301,
          13.071800231933596,
          31.246400833129996,
          41.6102981567,
          14.662599563598633,
          32.363998413085945,
          -9.4280004501343,
          -0.547458,
          -8.525,
          -22.4799,
          11.547300338745115,
          16.791400909423828,
          16.7285995483,
          26.7318,
          -19.079030990600582,
          -12.1883001328,
          23.188800811767575,
          77.8969444,
          19.28210067749023
         ],
         "lon": [
          145.391998291,
          -45.4259986877,
          -18.07270050048828,
          -84.5093994140625,
          2.814169883728028,
          2.384350061416626,
          -1.51242,
          -0.1667860001325607,
          -3.9262900352478023,
          7.263169765472412,
          7.1267499923706055,
          10.75469970703125,
          1.0912499427795408,
          4.46027994156,
          14.519722,
          24.208499908447266,
          23.424299240112,
          -6.21582984924,
          -2.21472,
          -2.1955099105834956,
          -4.623889923095703,
          -58.44720077514648,
          4.76389,
          -8.491109848022461,
          10.619000434899998,
          -7.277219772338867,
          6.204444400000001,
          6.119699954986572,
          20.910999298095703,
          15.525699615478516,
          16.5333,
          27.47450065612793,
          15.253000259399414,
          15.95009994506836,
          31.3075008392334,
          18.518800735473636,
          9.80568027496338,
          -14.3937,
          57.683601,
          72.411102,
          9.3605298996,
          27.893899917603,
          43.2719,
          45.28110122680664,
          55.51029968261719,
          47.478802,
          14.246999740600586,
          11.58139991760254,
          7.411739826202393,
          34.90760040283203,
          52.7262,
          20.84429931640625,
          28.617901,
          34.9739990234375,
          27.552499771118164,
          -7.94994,
          -16.65220069885254,
          -13.863800048828123,
          -13.1955,
          -15.180500030517578,
          -10.758700370788574,
          -9.41306972503662,
          -16.281799,
          -9.637880325317385,
          -13.569199562073,
          -22.9494,
          38.7993011475,
          29.318500518798828,
          44.08879852294922,
          29.94890022277832,
          35.23889923095703,
          22.080900192260746,
          29.258899688720703,
          30.4300994873,
          31.601100921599997,
          36.63330078125,
          32.443501,
          19.7206001282,
          27.515199661254886,
          33.62490081787109,
          18.268199920654297,
          1.954759955406189,
          -56.3802986145,
          21.292601,
          19.261093,
          15.7181,
          15.530200004578,
          14.427499771118164,
          34.88669967651367,
          14.4775,
          16.260099411010742,
          -9.0301,
          17.84589958190918,
          21.261999130249023,
          6.79284000397,
          32.7407989502,
          27.777222,
          20.7423,
          -5.3496599197400005,
          20.3090991974,
          19.2519,
          17.212699890136722,
          -71.939598,
          -69.42980194089999,
          -88.83719635009766,
          -86.852997,
          -76.96900177001953,
          -99.75399780273438,
          -83.77410125732422,
          -82.25080108642578,
          -83.33017099999999,
          -89.055702,
          -73.78829956054688,
          -74.5062026977539,
          -79.88279724121094,
          -77.68460083007812,
          -88.30819702148438,
          -159.76400756835938,
          177.4429931640625,
          -175.14999389648438,
          173.14700317382812,
          -176.19900512700002,
          -172.00799560546875,
          -170.710006714,
          -151.36099243164062,
          168.32000732422,
          164.83700561523438,
          174.792007446,
          0.0,
          62.22829818725586,
          50.63359832763672,
          42.65660095210001,
          48.2282981873,
          35.9931983948,
          35.219200134277,
          47.96889877319336,
          35.488399505615234,
          54.651100158691406,
          56.2406005859375,
          72.94840240479999,
          47.66210174560547,
          37.22439956665039,
          51.565102,
          145.2429962158203,
          144.929998,
          171.27200317382812,
          -177.38099670410156,
          151.84300231933594,
          134.544236,
          118.359001,
          140.386001587,
          126.805444,
          121.019997,
          -57.9966,
          -49.30149841308594,
          -70.338699,
          -78.57460021972656,
          -57.52000045776367,
          -75.7664,
          -64.31289672850001,
          -55.1878013611,
          -52.360401153599994,
          -79.44290161132812,
          -56.264702,
          -69.23786926269531,
          -58.270302,
          -61.792702,
          -59.4925003052,
          -61.3922004699707,
          -61.00320053100586,
          -63.047199249268,
          -61.78620147705078,
          -64.97339630126953,
          -67.12940216064453,
          -62.71870040893555,
          -60.992901,
          -70.015198,
          -68.26850128173828,
          -63.055099,
          -60.83219909667969,
          -64.54299926757811,
          -61.3424,
          77.04049682617188,
          74.4776000977,
          50.04669952392578,
          129.77099609375,
          30.89469909667969,
          31.016700744628903,
          58.361,
          68.8249969482,
          64.48329925537111,
          72.63469696039998,
          79.88410186767578,
          104.564002991,
          91.96389770507812,
          113.915001,
          102.16100311279295,
          113.592003,
          83.41629300000001,
          89.42459869380001,
          73.52909851074219,
          100.607002258,
          108.1989974975586,
          94.0261,
          119.5540008544922,
          113.019996643,
          114.9280014038086,
          125.28700256347656,
          103.81300354003906,
          153.007995605,
          105.69000244140624,
          167.93899536132812,
          116.58499908447266,
          125.669998,
          106.766998,
          -143.582000732,
          21.096900939941406,
          23.395000457763672,
          44.46500015260001,
          42.64500045776367,
          34.276100158691,
          41.5997009277,
          49.375,
          -64.67870330810547,
          160.05499267578,
          166.919006,
          179.195999,
          17.4709,
          43.15950012207031,
          -62.19329833984375,
          -169.533996582,
          -11.6847,
          -169.92559814453125,
          96.8339004517,
          94.05110168457033,
          16.725,
          166.63600158691406
         ],
         "marker": {
          "color": [
           "rgb(68, 1, 84)"
          ],
          "colorbar": {
           "title": {
            "text": "First Case Date"
           }
          },
          "colorscale": [
           [
            0.0,
            "#440154"
           ],
           [
            0.1111111111111111,
            "#482878"
           ],
           [
            0.2222222222222222,
            "#3e4989"
           ],
           [
            0.3333333333333333,
            "#31688e"
           ],
           [
            0.4444444444444444,
            "#26828e"
           ],
           [
            0.5555555555555556,
            "#1f9e89"
           ],
           [
            0.6666666666666666,
            "#35b779"
           ],
           [
            0.7777777777777778,
            "#6ece58"
           ],
           [
            0.8888888888888888,
            "#b5de2b"
           ],
           [
            1.0,
            "#fde725"
           ]
          ],
          "opacity": 0.7,
          "size": [
           1,
           1,
           1,
           1,
           1,
           1,
           1,
           1,
           1,
           1,
           1,
           1,
           1,
           1,
           1,
           1,
           1,
           1,
           1,
           1,
           1,
           1,
           1,
           1,
           1,
           1,
           1,
           1,
           1,
           1,
           1,
           1,
           1,
           1,
           1,
           1,
           1,
           1,
           1,
           1,
           1,
           1,
           1,
           1,
           1,
           1,
           1,
           1,
           1,
           1,
           1,
           1,
           1,
           1,
           1,
           1,
           1,
           1,
           1,
           1,
           1,
           1,
           1,
           1,
           1,
           1,
           1,
           1,
           1,
           1,
           1,
           1,
           1,
           1,
           1,
           1,
           1,
           1,
           1,
           1,
           1,
           1,
           1,
           1,
           1,
           1,
           1,
           1,
           1,
           1,
           1,
           1,
           1,
           1,
           1,
           1,
           1,
           1,
           1,
           1,
           1,
           1,
           1,
           1,
           1,
           1,
           1,
           1,
           1,
           1,
           1,
           1,
           1,
           1,
           1,
           1,
           1,
           1,
           1,
           1,
           1,
           1,
           1,
           1,
           1,
           1,
           1,
           1,
           1,
           1,
           1,
           1,
           1,
           1,
           1,
           1,
           1,
           1,
           1,
           1,
           1,
           1,
           1,
           1,
           1,
           1,
           1,
           1,
           1,
           1,
           1,
           1,
           1,
           1,
           1,
           1,
           1,
           1,
           1,
           1,
           1,
           1,
           1,
           1,
           1,
           1,
           1,
           1,
           1,
           1,
           1,
           1,
           1,
           1,
           1,
           1,
           1,
           1,
           1,
           1,
           1,
           1,
           1,
           1,
           1,
           1,
           1,
           1,
           1,
           1,
           1,
           1,
           1,
           1,
           1,
           1,
           1,
           1,
           1,
           1,
           1,
           1,
           1,
           1,
           1,
           1,
           1,
           1,
           1,
           1,
           1,
           1,
           1,
           1,
           1,
           1,
           1,
           1,
           1,
           1,
           1,
           1,
           1,
           1,
           1,
           1,
           1,
           1,
           1,
           1,
           1,
           1,
           1,
           1,
           1,
           1,
           1
          ]
         },
         "mode": "markers",
         "type": "scattergeo"
        }
       ],
       "layout": {
        "template": {
         "data": {
          "histogram2dcontour": [
           {
            "type": "histogram2dcontour",
            "colorbar": {
             "outlinewidth": 0,
             "ticks": ""
            },
            "colorscale": [
             [
              0.0,
              "#0d0887"
             ],
             [
              0.1111111111111111,
              "#46039f"
             ],
             [
              0.2222222222222222,
              "#7201a8"
             ],
             [
              0.3333333333333333,
              "#9c179e"
             ],
             [
              0.4444444444444444,
              "#bd3786"
             ],
             [
              0.5555555555555556,
              "#d8576b"
             ],
             [
              0.6666666666666666,
              "#ed7953"
             ],
             [
              0.7777777777777778,
              "#fb9f3a"
             ],
             [
              0.8888888888888888,
              "#fdca26"
             ],
             [
              1.0,
              "#f0f921"
             ]
            ]
           }
          ],
          "choropleth": [
           {
            "type": "choropleth",
            "colorbar": {
             "outlinewidth": 0,
             "ticks": ""
            }
           }
          ],
          "histogram2d": [
           {
            "type": "histogram2d",
            "colorbar": {
             "outlinewidth": 0,
             "ticks": ""
            },
            "colorscale": [
             [
              0.0,
              "#0d0887"
             ],
             [
              0.1111111111111111,
              "#46039f"
             ],
             [
              0.2222222222222222,
              "#7201a8"
             ],
             [
              0.3333333333333333,
              "#9c179e"
             ],
             [
              0.4444444444444444,
              "#bd3786"
             ],
             [
              0.5555555555555556,
              "#d8576b"
             ],
             [
              0.6666666666666666,
              "#ed7953"
             ],
             [
              0.7777777777777778,
              "#fb9f3a"
             ],
             [
              0.8888888888888888,
              "#fdca26"
             ],
             [
              1.0,
              "#f0f921"
             ]
            ]
           }
          ],
          "heatmap": [
           {
            "type": "heatmap",
            "colorbar": {
             "outlinewidth": 0,
             "ticks": ""
            },
            "colorscale": [
             [
              0.0,
              "#0d0887"
             ],
             [
              0.1111111111111111,
              "#46039f"
             ],
             [
              0.2222222222222222,
              "#7201a8"
             ],
             [
              0.3333333333333333,
              "#9c179e"
             ],
             [
              0.4444444444444444,
              "#bd3786"
             ],
             [
              0.5555555555555556,
              "#d8576b"
             ],
             [
              0.6666666666666666,
              "#ed7953"
             ],
             [
              0.7777777777777778,
              "#fb9f3a"
             ],
             [
              0.8888888888888888,
              "#fdca26"
             ],
             [
              1.0,
              "#f0f921"
             ]
            ]
           }
          ],
          "heatmapgl": [
           {
            "type": "heatmapgl",
            "colorbar": {
             "outlinewidth": 0,
             "ticks": ""
            },
            "colorscale": [
             [
              0.0,
              "#0d0887"
             ],
             [
              0.1111111111111111,
              "#46039f"
             ],
             [
              0.2222222222222222,
              "#7201a8"
             ],
             [
              0.3333333333333333,
              "#9c179e"
             ],
             [
              0.4444444444444444,
              "#bd3786"
             ],
             [
              0.5555555555555556,
              "#d8576b"
             ],
             [
              0.6666666666666666,
              "#ed7953"
             ],
             [
              0.7777777777777778,
              "#fb9f3a"
             ],
             [
              0.8888888888888888,
              "#fdca26"
             ],
             [
              1.0,
              "#f0f921"
             ]
            ]
           }
          ],
          "contourcarpet": [
           {
            "type": "contourcarpet",
            "colorbar": {
             "outlinewidth": 0,
             "ticks": ""
            }
           }
          ],
          "contour": [
           {
            "type": "contour",
            "colorbar": {
             "outlinewidth": 0,
             "ticks": ""
            },
            "colorscale": [
             [
              0.0,
              "#0d0887"
             ],
             [
              0.1111111111111111,
              "#46039f"
             ],
             [
              0.2222222222222222,
              "#7201a8"
             ],
             [
              0.3333333333333333,
              "#9c179e"
             ],
             [
              0.4444444444444444,
              "#bd3786"
             ],
             [
              0.5555555555555556,
              "#d8576b"
             ],
             [
              0.6666666666666666,
              "#ed7953"
             ],
             [
              0.7777777777777778,
              "#fb9f3a"
             ],
             [
              0.8888888888888888,
              "#fdca26"
             ],
             [
              1.0,
              "#f0f921"
             ]
            ]
           }
          ],
          "surface": [
           {
            "type": "surface",
            "colorbar": {
             "outlinewidth": 0,
             "ticks": ""
            },
            "colorscale": [
             [
              0.0,
              "#0d0887"
             ],
             [
              0.1111111111111111,
              "#46039f"
             ],
             [
              0.2222222222222222,
              "#7201a8"
             ],
             [
              0.3333333333333333,
              "#9c179e"
             ],
             [
              0.4444444444444444,
              "#bd3786"
             ],
             [
              0.5555555555555556,
              "#d8576b"
             ],
             [
              0.6666666666666666,
              "#ed7953"
             ],
             [
              0.7777777777777778,
              "#fb9f3a"
             ],
             [
              0.8888888888888888,
              "#fdca26"
             ],
             [
              1.0,
              "#f0f921"
             ]
            ]
           }
          ],
          "mesh3d": [
           {
            "type": "mesh3d",
            "colorbar": {
             "outlinewidth": 0,
             "ticks": ""
            }
           }
          ],
          "scatter": [
           {
            "fillpattern": {
             "fillmode": "overlay",
             "size": 10,
             "solidity": 0.2
            },
            "type": "scatter"
           }
          ],
          "parcoords": [
           {
            "type": "parcoords",
            "line": {
             "colorbar": {
              "outlinewidth": 0,
              "ticks": ""
             }
            }
           }
          ],
          "scatterpolargl": [
           {
            "type": "scatterpolargl",
            "marker": {
             "colorbar": {
              "outlinewidth": 0,
              "ticks": ""
             }
            }
           }
          ],
          "bar": [
           {
            "error_x": {
             "color": "#2a3f5f"
            },
            "error_y": {
             "color": "#2a3f5f"
            },
            "marker": {
             "line": {
              "color": "#E5ECF6",
              "width": 0.5
             },
             "pattern": {
              "fillmode": "overlay",
              "size": 10,
              "solidity": 0.2
             }
            },
            "type": "bar"
           }
          ],
          "scattergeo": [
           {
            "type": "scattergeo",
            "marker": {
             "colorbar": {
              "outlinewidth": 0,
              "ticks": ""
             }
            }
           }
          ],
          "scatterpolar": [
           {
            "type": "scatterpolar",
            "marker": {
             "colorbar": {
              "outlinewidth": 0,
              "ticks": ""
             }
            }
           }
          ],
          "histogram": [
           {
            "marker": {
             "pattern": {
              "fillmode": "overlay",
              "size": 10,
              "solidity": 0.2
             }
            },
            "type": "histogram"
           }
          ],
          "scattergl": [
           {
            "type": "scattergl",
            "marker": {
             "colorbar": {
              "outlinewidth": 0,
              "ticks": ""
             }
            }
           }
          ],
          "scatter3d": [
           {
            "type": "scatter3d",
            "line": {
             "colorbar": {
              "outlinewidth": 0,
              "ticks": ""
             }
            },
            "marker": {
             "colorbar": {
              "outlinewidth": 0,
              "ticks": ""
             }
            }
           }
          ],
          "scattermapbox": [
           {
            "type": "scattermapbox",
            "marker": {
             "colorbar": {
              "outlinewidth": 0,
              "ticks": ""
             }
            }
           }
          ],
          "scatterternary": [
           {
            "type": "scatterternary",
            "marker": {
             "colorbar": {
              "outlinewidth": 0,
              "ticks": ""
             }
            }
           }
          ],
          "scattercarpet": [
           {
            "type": "scattercarpet",
            "marker": {
             "colorbar": {
              "outlinewidth": 0,
              "ticks": ""
             }
            }
           }
          ],
          "carpet": [
           {
            "aaxis": {
             "endlinecolor": "#2a3f5f",
             "gridcolor": "white",
             "linecolor": "white",
             "minorgridcolor": "white",
             "startlinecolor": "#2a3f5f"
            },
            "baxis": {
             "endlinecolor": "#2a3f5f",
             "gridcolor": "white",
             "linecolor": "white",
             "minorgridcolor": "white",
             "startlinecolor": "#2a3f5f"
            },
            "type": "carpet"
           }
          ],
          "table": [
           {
            "cells": {
             "fill": {
              "color": "#EBF0F8"
             },
             "line": {
              "color": "white"
             }
            },
            "header": {
             "fill": {
              "color": "#C8D4E3"
             },
             "line": {
              "color": "white"
             }
            },
            "type": "table"
           }
          ],
          "barpolar": [
           {
            "marker": {
             "line": {
              "color": "#E5ECF6",
              "width": 0.5
             },
             "pattern": {
              "fillmode": "overlay",
              "size": 10,
              "solidity": 0.2
             }
            },
            "type": "barpolar"
           }
          ],
          "pie": [
           {
            "automargin": true,
            "type": "pie"
           }
          ]
         },
         "layout": {
          "autotypenumbers": "strict",
          "colorway": [
           "#636efa",
           "#EF553B",
           "#00cc96",
           "#ab63fa",
           "#FFA15A",
           "#19d3f3",
           "#FF6692",
           "#B6E880",
           "#FF97FF",
           "#FECB52"
          ],
          "font": {
           "color": "#2a3f5f"
          },
          "hovermode": "closest",
          "hoverlabel": {
           "align": "left"
          },
          "paper_bgcolor": "white",
          "plot_bgcolor": "#E5ECF6",
          "polar": {
           "bgcolor": "#E5ECF6",
           "angularaxis": {
            "gridcolor": "white",
            "linecolor": "white",
            "ticks": ""
           },
           "radialaxis": {
            "gridcolor": "white",
            "linecolor": "white",
            "ticks": ""
           }
          },
          "ternary": {
           "bgcolor": "#E5ECF6",
           "aaxis": {
            "gridcolor": "white",
            "linecolor": "white",
            "ticks": ""
           },
           "baxis": {
            "gridcolor": "white",
            "linecolor": "white",
            "ticks": ""
           },
           "caxis": {
            "gridcolor": "white",
            "linecolor": "white",
            "ticks": ""
           }
          },
          "coloraxis": {
           "colorbar": {
            "outlinewidth": 0,
            "ticks": ""
           }
          },
          "colorscale": {
           "sequential": [
            [
             0.0,
             "#0d0887"
            ],
            [
             0.1111111111111111,
             "#46039f"
            ],
            [
             0.2222222222222222,
             "#7201a8"
            ],
            [
             0.3333333333333333,
             "#9c179e"
            ],
            [
             0.4444444444444444,
             "#bd3786"
            ],
            [
             0.5555555555555556,
             "#d8576b"
            ],
            [
             0.6666666666666666,
             "#ed7953"
            ],
            [
             0.7777777777777778,
             "#fb9f3a"
            ],
            [
             0.8888888888888888,
             "#fdca26"
            ],
            [
             1.0,
             "#f0f921"
            ]
           ],
           "sequentialminus": [
            [
             0.0,
             "#0d0887"
            ],
            [
             0.1111111111111111,
             "#46039f"
            ],
            [
             0.2222222222222222,
             "#7201a8"
            ],
            [
             0.3333333333333333,
             "#9c179e"
            ],
            [
             0.4444444444444444,
             "#bd3786"
            ],
            [
             0.5555555555555556,
             "#d8576b"
            ],
            [
             0.6666666666666666,
             "#ed7953"
            ],
            [
             0.7777777777777778,
             "#fb9f3a"
            ],
            [
             0.8888888888888888,
             "#fdca26"
            ],
            [
             1.0,
             "#f0f921"
            ]
           ],
           "diverging": [
            [
             0,
             "#8e0152"
            ],
            [
             0.1,
             "#c51b7d"
            ],
            [
             0.2,
             "#de77ae"
            ],
            [
             0.3,
             "#f1b6da"
            ],
            [
             0.4,
             "#fde0ef"
            ],
            [
             0.5,
             "#f7f7f7"
            ],
            [
             0.6,
             "#e6f5d0"
            ],
            [
             0.7,
             "#b8e186"
            ],
            [
             0.8,
             "#7fbc41"
            ],
            [
             0.9,
             "#4d9221"
            ],
            [
             1,
             "#276419"
            ]
           ]
          },
          "xaxis": {
           "gridcolor": "white",
           "linecolor": "white",
           "ticks": "",
           "title": {
            "standoff": 15
           },
           "zerolinecolor": "white",
           "automargin": true,
           "zerolinewidth": 2
          },
          "yaxis": {
           "gridcolor": "white",
           "linecolor": "white",
           "ticks": "",
           "title": {
            "standoff": 15
           },
           "zerolinecolor": "white",
           "automargin": true,
           "zerolinewidth": 2
          },
          "scene": {
           "xaxis": {
            "backgroundcolor": "#E5ECF6",
            "gridcolor": "white",
            "linecolor": "white",
            "showbackground": true,
            "ticks": "",
            "zerolinecolor": "white",
            "gridwidth": 2
           },
           "yaxis": {
            "backgroundcolor": "#E5ECF6",
            "gridcolor": "white",
            "linecolor": "white",
            "showbackground": true,
            "ticks": "",
            "zerolinecolor": "white",
            "gridwidth": 2
           },
           "zaxis": {
            "backgroundcolor": "#E5ECF6",
            "gridcolor": "white",
            "linecolor": "white",
            "showbackground": true,
            "ticks": "",
            "zerolinecolor": "white",
            "gridwidth": 2
           }
          },
          "shapedefaults": {
           "line": {
            "color": "#2a3f5f"
           }
          },
          "annotationdefaults": {
           "arrowcolor": "#2a3f5f",
           "arrowhead": 0,
           "arrowwidth": 1
          },
          "geo": {
           "bgcolor": "white",
           "landcolor": "#E5ECF6",
           "subunitcolor": "white",
           "showland": true,
           "showlakes": true,
           "lakecolor": "white"
          },
          "title": {
           "x": 0.05
          },
          "mapbox": {
           "style": "light"
          }
         }
        },
        "geo": {
         "projection": {
          "type": "equirectangular"
         },
         "scope": "world",
         "showland": true,
         "landcolor": "rgb(217, 217, 217)",
         "subunitwidth": 1,
         "countrywidth": 1,
         "subunitcolor": "rgb(255, 255, 255)",
         "countrycolor": "rgb(255, 255, 255)"
        },
        "title": {
         "text": "COVID-19 First Case Connections on World Map"
        },
        "showlegend": false
       },
       "config": {
        "plotlyServerURL": "https://plot.ly"
       }
      },
      "text/html": "<div>                            <div id=\"c7832998-cad4-492a-b615-79f322697a94\" class=\"plotly-graph-div\" style=\"height:525px; width:100%;\"></div>            <script type=\"text/javascript\">                require([\"plotly\"], function(Plotly) {                    window.PLOTLYENV=window.PLOTLYENV || {};                                    if (document.getElementById(\"c7832998-cad4-492a-b615-79f322697a94\")) {                    Plotly.newPlot(                        \"c7832998-cad4-492a-b615-79f322697a94\",                        [{\"lat\":[40.0801010131836,27.505684999999996,null],\"line\":{\"color\":\"rgb(68, 1, 84)\",\"width\":0.5},\"lon\":[116.58499908447266,83.41629300000001,null],\"mode\":\"lines\",\"opacity\":0.5,\"type\":\"scattergeo\"},{\"lat\":[40.0801010131836,52.308601,null],\"line\":{\"color\":\"rgb(68, 1, 84)\",\"width\":0.5},\"lon\":[116.58499908447266,4.76389,null],\"mode\":\"lines\",\"opacity\":0.5,\"type\":\"scattergeo\"},{\"lat\":[40.0801010131836,30.371099471999997,null],\"line\":{\"color\":\"rgb(68, 1, 84)\",\"width\":0.5},\"lon\":[116.58499908447266,48.2282981873,null],\"mode\":\"lines\",\"opacity\":0.5,\"type\":\"scattergeo\"},{\"lat\":[40.0801010131836,1.4252599477767944,null],\"line\":{\"color\":\"rgb(68, 1, 84)\",\"width\":0.5},\"lon\":[116.58499908447266,103.81300354003906,null],\"mode\":\"lines\",\"opacity\":0.5,\"type\":\"scattergeo\"},{\"lat\":[40.0801010131836,3.1238501071900004,null],\"line\":{\"color\":\"rgb(68, 1, 84)\",\"width\":0.5},\"lon\":[116.58499908447266,113.019996643,null],\"mode\":\"lines\",\"opacity\":0.5,\"type\":\"scattergeo\"},{\"lat\":[40.0801010131836,12.255200386,null],\"line\":{\"color\":\"rgb(68, 1, 84)\",\"width\":0.5},\"lon\":[116.58499908447266,104.564002991,null],\"mode\":\"lines\",\"opacity\":0.5,\"type\":\"scattergeo\"},{\"lat\":[40.0801010131836,54.6575012207,null],\"line\":{\"color\":\"rgb(68, 1, 84)\",\"width\":0.5},\"lon\":[116.58499908447266,-6.21582984924,null],\"mode\":\"lines\",\"opacity\":0.5,\"type\":\"scattergeo\"},{\"lat\":[40.0801010131836,47.0839004517,null],\"line\":{\"color\":\"rgb(68, 1, 84)\",\"width\":0.5},\"lon\":[116.58499908447266,6.79284000397,null],\"mode\":\"lines\",\"opacity\":0.5,\"type\":\"scattergeo\"},{\"lat\":[40.0801010131836,-5.061629772186278,null],\"line\":{\"color\":\"rgb(68, 1, 84)\",\"width\":0.5},\"lon\":[116.58499908447266,119.5540008544922,null],\"mode\":\"lines\",\"opacity\":0.5,\"type\":\"scattergeo\"},{\"lat\":[40.0801010131836,51.193611,null],\"line\":{\"color\":\"rgb(68, 1, 84)\",\"width\":0.5},\"lon\":[116.58499908447266,14.519722,null],\"mode\":\"lines\",\"opacity\":0.5,\"type\":\"scattergeo\"},{\"lat\":[40.0801010131836,14.5086,null],\"line\":{\"color\":\"rgb(68, 1, 84)\",\"width\":0.5},\"lon\":[116.58499908447266,121.019997,null],\"mode\":\"lines\",\"opacity\":0.5,\"type\":\"scattergeo\"},{\"lat\":[40.0801010131836,39.9350013733,null],\"line\":{\"color\":\"rgb(68, 1, 84)\",\"width\":0.5},\"lon\":[116.58499908447266,32.7407989502,null],\"mode\":\"lines\",\"opacity\":0.5,\"type\":\"scattergeo\"},{\"lat\":[40.0801010131836,41.541401,null],\"line\":{\"color\":\"rgb(68, 1, 84)\",\"width\":0.5},\"lon\":[116.58499908447266,15.7181,null],\"mode\":\"lines\",\"opacity\":0.5,\"type\":\"scattergeo\"},{\"lat\":[40.0801010131836,4.944200038909912,null],\"line\":{\"color\":\"rgb(68, 1, 84)\",\"width\":0.5},\"lon\":[116.58499908447266,114.9280014038086,null],\"mode\":\"lines\",\"opacity\":0.5,\"type\":\"scattergeo\"},{\"lat\":[40.0801010131836,16.757099151611328,null],\"line\":{\"color\":\"rgb(68, 1, 84)\",\"width\":0.5},\"lon\":[116.58499908447266,-99.75399780273438,null],\"mode\":\"lines\",\"opacity\":0.5,\"type\":\"scattergeo\"},{\"lat\":[40.0801010131836,35.764701843299996,null],\"line\":{\"color\":\"rgb(68, 1, 84)\",\"width\":0.5},\"lon\":[116.58499908447266,140.386001587,null],\"mode\":\"lines\",\"opacity\":0.5,\"type\":\"scattergeo\"},{\"lat\":[40.0801010131836,24.433000564575195,null],\"line\":{\"color\":\"rgb(68, 1, 84)\",\"width\":0.5},\"lon\":[116.58499908447266,54.651100158691406,null],\"mode\":\"lines\",\"opacity\":0.5,\"type\":\"scattergeo\"},{\"lat\":[40.0801010131836,25.261101,null],\"line\":{\"color\":\"rgb(68, 1, 84)\",\"width\":0.5},\"lon\":[116.58499908447266,51.565102,null],\"mode\":\"lines\",\"opacity\":0.5,\"type\":\"scattergeo\"},{\"lat\":[40.0801010131836,68.36260223388699,null],\"line\":{\"color\":\"rgb(68, 1, 84)\",\"width\":0.5},\"lon\":[116.58499908447266,23.424299240112,null],\"mode\":\"lines\",\"opacity\":0.5,\"type\":\"scattergeo\"},{\"lat\":[40.0801010131836,22.308901,null],\"line\":{\"color\":\"rgb(68, 1, 84)\",\"width\":0.5},\"lon\":[116.58499908447266,113.915001,null],\"mode\":\"lines\",\"opacity\":0.5,\"type\":\"scattergeo\"},{\"lat\":[40.0801010131836,13.9125995636,null],\"line\":{\"color\":\"rgb(68, 1, 84)\",\"width\":0.5},\"lon\":[116.58499908447266,100.607002258,null],\"mode\":\"lines\",\"opacity\":0.5,\"type\":\"scattergeo\"},{\"lat\":[40.0801010131836,7.180759906768799,null],\"line\":{\"color\":\"rgb(68, 1, 84)\",\"width\":0.5},\"lon\":[116.58499908447266,79.88410186767578,null],\"mode\":\"lines\",\"opacity\":0.5,\"type\":\"scattergeo\"},{\"lat\":[40.0801010131836,14.17430019378662,null],\"line\":{\"color\":\"rgb(68, 1, 84)\",\"width\":0.5},\"lon\":[116.58499908447266,145.2429962158203,null],\"mode\":\"lines\",\"opacity\":0.5,\"type\":\"scattergeo\"},{\"lat\":[40.0801010131836,70.13400268550001,null],\"line\":{\"color\":\"rgb(68, 1, 84)\",\"width\":0.5},\"lon\":[116.58499908447266,-143.582000732,null],\"mode\":\"lines\",\"opacity\":0.5,\"type\":\"scattergeo\"},{\"lat\":[40.0801010131836,16.043899536132812,null],\"line\":{\"color\":\"rgb(68, 1, 84)\",\"width\":0.5},\"lon\":[116.58499908447266,108.1989974975586,null],\"mode\":\"lines\",\"opacity\":0.5,\"type\":\"scattergeo\"},{\"lat\":[40.0801010131836,62.093299865722656,null],\"line\":{\"color\":\"rgb(68, 1, 84)\",\"width\":0.5},\"lon\":[116.58499908447266,129.77099609375,null],\"mode\":\"lines\",\"opacity\":0.5,\"type\":\"scattergeo\"},{\"lat\":[40.0801010131836,46.48500061035156,null],\"line\":{\"color\":\"rgb(68, 1, 84)\",\"width\":0.5},\"lon\":[116.58499908447266,-84.5093994140625,null],\"mode\":\"lines\",\"opacity\":0.5,\"type\":\"scattergeo\"},{\"lat\":[40.0801010131836,35.123173,null],\"line\":{\"color\":\"rgb(68, 1, 84)\",\"width\":0.5},\"lon\":[116.58499908447266,126.805444,null],\"mode\":\"lines\",\"opacity\":0.5,\"type\":\"scattergeo\"},{\"lat\":[40.0801010131836,-27.5702991486,null],\"line\":{\"color\":\"rgb(68, 1, 84)\",\"width\":0.5},\"lon\":[116.58499908447266,153.007995605,null],\"mode\":\"lines\",\"opacity\":0.5,\"type\":\"scattergeo\"},{\"lat\":[40.0801010131836,23.0771999359,null],\"line\":{\"color\":\"rgb(68, 1, 84)\",\"width\":0.5},\"lon\":[116.58499908447266,72.63469696039998,null],\"mode\":\"lines\",\"opacity\":0.5,\"type\":\"scattergeo\"},{\"lat\":[40.0801010131836,4.1918301582336435,null],\"line\":{\"color\":\"rgb(68, 1, 84)\",\"width\":0.5},\"lon\":[116.58499908447266,73.52909851074219,null],\"mode\":\"lines\",\"opacity\":0.5,\"type\":\"scattergeo\"},{\"lat\":[40.0801010131836,50.96210098266602,null],\"line\":{\"color\":\"rgb(68, 1, 84)\",\"width\":0.5},\"lon\":[116.58499908447266,1.954759955406189,null],\"mode\":\"lines\",\"opacity\":0.5,\"type\":\"scattergeo\"},{\"lat\":[40.0801010131836,-20.430201,null],\"line\":{\"color\":\"rgb(68, 1, 84)\",\"width\":0.5},\"lon\":[116.58499908447266,57.683601,null],\"mode\":\"lines\",\"opacity\":0.5,\"type\":\"scattergeo\"},{\"lat\":[40.0801010131836,8.97789001465,null],\"line\":{\"color\":\"rgb(68, 1, 84)\",\"width\":0.5},\"lon\":[116.58499908447266,38.7993011475,null],\"mode\":\"lines\",\"opacity\":0.5,\"type\":\"scattergeo\"},{\"lat\":[40.0801010131836,24.4279,null],\"line\":{\"color\":\"rgb(68, 1, 84)\",\"width\":0.5},\"lon\":[116.58499908447266,118.359001,null],\"mode\":\"lines\",\"opacity\":0.5,\"type\":\"scattergeo\"},{\"lat\":[40.0801010131836,22.149599,null],\"line\":{\"color\":\"rgb(68, 1, 84)\",\"width\":0.5},\"lon\":[116.58499908447266,113.592003,null],\"mode\":\"lines\",\"opacity\":0.5,\"type\":\"scattergeo\"},{\"lat\":[40.0801010131836,-37.0080986023,null],\"line\":{\"color\":\"rgb(68, 1, 84)\",\"width\":0.5},\"lon\":[116.58499908447266,174.792007446,null],\"mode\":\"lines\",\"opacity\":0.5,\"type\":\"scattergeo\"},{\"lat\":[40.0801010131836,56.2999992371,null],\"line\":{\"color\":\"rgb(68, 1, 84)\",\"width\":0.5},\"lon\":[116.58499908447266,10.619000434899998,null],\"mode\":\"lines\",\"opacity\":0.5,\"type\":\"scattergeo\"},{\"lat\":[40.0801010131836,19.769199,null],\"line\":{\"color\":\"rgb(68, 1, 84)\",\"width\":0.5},\"lon\":[116.58499908447266,94.0261,null],\"mode\":\"lines\",\"opacity\":0.5,\"type\":\"scattergeo\"},{\"lat\":[40.0801010131836,19.897300720214844,null],\"line\":{\"color\":\"rgb(68, 1, 84)\",\"width\":0.5},\"lon\":[116.58499908447266,102.16100311279295,null],\"mode\":\"lines\",\"opacity\":0.5,\"type\":\"scattergeo\"},{\"lat\":[40.0801010131836,21.45219993591309,null],\"line\":{\"color\":\"rgb(68, 1, 84)\",\"width\":0.5},\"lon\":[116.58499908447266,91.96389770507812,null],\"mode\":\"lines\",\"opacity\":0.5,\"type\":\"scattergeo\"},{\"lat\":[40.0801010131836,47.843102,null],\"line\":{\"color\":\"rgb(68, 1, 84)\",\"width\":0.5},\"lon\":[116.58499908447266,106.766998,null],\"mode\":\"lines\",\"opacity\":0.5,\"type\":\"scattergeo\"},{\"lat\":[40.0801010131836,32.056098938000005,null],\"line\":{\"color\":\"rgb(68, 1, 84)\",\"width\":0.5},\"lon\":[116.58499908447266,72.94840240479999,null],\"mode\":\"lines\",\"opacity\":0.5,\"type\":\"scattergeo\"},{\"lat\":[40.0801010131836,39.775001525878906,null],\"line\":{\"color\":\"rgb(68, 1, 84)\",\"width\":0.5},\"lon\":[116.58499908447266,64.48329925537111,null],\"mode\":\"lines\",\"opacity\":0.5,\"type\":\"scattergeo\"},{\"lat\":[40.0801010131836,51.1893997192,null],\"line\":{\"color\":\"rgb(68, 1, 84)\",\"width\":0.5},\"lon\":[116.58499908447266,4.46027994156,null],\"mode\":\"lines\",\"opacity\":0.5,\"type\":\"scattergeo\"},{\"lat\":[40.0801010131836,31.183900833129886,null],\"line\":{\"color\":\"rgb(68, 1, 84)\",\"width\":0.5},\"lon\":[116.58499908447266,29.94890022277832,null],\"mode\":\"lines\",\"opacity\":0.5,\"type\":\"scattergeo\"},{\"lat\":[40.0801010131836,-28.575001,null],\"line\":{\"color\":\"rgb(68, 1, 84)\",\"width\":0.5},\"lon\":[116.58499908447266,16.5333,null],\"mode\":\"lines\",\"opacity\":0.5,\"type\":\"scattergeo\"},{\"lat\":[40.0801010131836,52.26850128173828,null],\"line\":{\"color\":\"rgb(68, 1, 84)\",\"width\":0.5},\"lon\":[116.58499908447266,20.910999298095703,null],\"mode\":\"lines\",\"opacity\":0.5,\"type\":\"scattergeo\"},{\"lat\":[40.0801010131836,43.35210037231445,null],\"line\":{\"color\":\"rgb(68, 1, 84)\",\"width\":0.5},\"lon\":[116.58499908447266,77.04049682617188,null],\"mode\":\"lines\",\"opacity\":0.5,\"type\":\"scattergeo\"},{\"lat\":[40.0801010131836,39.224098,null],\"line\":{\"color\":\"rgb(68, 1, 84)\",\"width\":0.5},\"lon\":[116.58499908447266,125.669998,null],\"mode\":\"lines\",\"opacity\":0.5,\"type\":\"scattergeo\"},{\"lat\":[40.0801010131836,28.452699661254886,null],\"line\":{\"color\":\"rgb(68, 1, 84)\",\"width\":0.5},\"lon\":[116.58499908447266,-13.863800048828123,null],\"mode\":\"lines\",\"opacity\":0.5,\"type\":\"scattergeo\"},{\"lat\":[40.0801010131836,-6.269899845123291,null],\"line\":{\"color\":\"rgb(68, 1, 84)\",\"width\":0.5},\"lon\":[116.58499908447266,14.246999740600586,null],\"mode\":\"lines\",\"opacity\":0.5,\"type\":\"scattergeo\"},{\"lat\":[40.0801010131836,40.46749877929688,null],\"line\":{\"color\":\"rgb(68, 1, 84)\",\"width\":0.5},\"lon\":[116.58499908447266,50.04669952392578,null],\"mode\":\"lines\",\"opacity\":0.5,\"type\":\"scattergeo\"},{\"lat\":[40.0801010131836,58.40230178833008,null],\"line\":{\"color\":\"rgb(68, 1, 84)\",\"width\":0.5},\"lon\":[116.58499908447266,15.525699615478516,null],\"mode\":\"lines\",\"opacity\":0.5,\"type\":\"scattergeo\"},{\"lat\":[40.0801010131836,47.843299865722656,null],\"line\":{\"color\":\"rgb(68, 1, 84)\",\"width\":0.5},\"lon\":[116.58499908447266,16.260099411010742,null],\"mode\":\"lines\",\"opacity\":0.5,\"type\":\"scattergeo\"},{\"lat\":[40.0801010131836,36.50360107421875,null],\"line\":{\"color\":\"rgb(68, 1, 84)\",\"width\":0.5},\"lon\":[116.58499908447266,2.814169883728028,null],\"mode\":\"lines\",\"opacity\":0.5,\"type\":\"scattergeo\"},{\"lat\":[40.0801010131836,32.011398315429695,null],\"line\":{\"color\":\"rgb(68, 1, 84)\",\"width\":0.5},\"lon\":[116.58499908447266,34.88669967651367,null],\"mode\":\"lines\",\"opacity\":0.5,\"type\":\"scattergeo\"},{\"lat\":[40.0801010131836,38.5433006287,null],\"line\":{\"color\":\"rgb(68, 1, 84)\",\"width\":0.5},\"lon\":[116.58499908447266,68.8249969482,null],\"mode\":\"lines\",\"opacity\":0.5,\"type\":\"scattergeo\"},{\"lat\":[40.0801010131836,41.6102981567,null],\"line\":{\"color\":\"rgb(68, 1, 84)\",\"width\":0.5},\"lon\":[116.58499908447266,41.5997009277,null],\"mode\":\"lines\",\"opacity\":0.5,\"type\":\"scattergeo\"},{\"lat\":[40.0801010131836,37.986801,null],\"line\":{\"color\":\"rgb(68, 1, 84)\",\"width\":0.5},\"lon\":[116.58499908447266,58.361,null],\"mode\":\"lines\",\"opacity\":0.5,\"type\":\"scattergeo\"},{\"lat\":[40.0801010131836,43.0612983704,null],\"line\":{\"color\":\"rgb(68, 1, 84)\",\"width\":0.5},\"lon\":[116.58499908447266,74.4776000977,null],\"mode\":\"lines\",\"opacity\":0.5,\"type\":\"scattergeo\"},{\"lat\":[40.0801010131836,0.4044579863548279,null],\"line\":{\"color\":\"rgb(68, 1, 84)\",\"width\":0.5},\"lon\":[116.58499908447266,35.23889923095703,null],\"mode\":\"lines\",\"opacity\":0.5,\"type\":\"scattergeo\"},{\"lat\":[40.0801010131836,18.2404003143,null],\"line\":{\"color\":\"rgb(68, 1, 84)\",\"width\":0.5},\"lon\":[116.58499908447266,42.65660095210001,null],\"mode\":\"lines\",\"opacity\":0.5,\"type\":\"scattergeo\"},{\"lat\":[-6.0816898345900015,61.1604995728,65.66000366210939,46.48500061035156,36.50360107421875,6.357230186462402,12.3532,5.605189800262451,5.261390209197998,9.006790161132812,13.5024995803833,35.75809860229492,9.767330169677734,51.1893997192,51.193611,59.26029968261719,68.36260223388699,54.6575012207,49.706104,49.20790100097656,54.08330154418945,-51.82279968261719,52.308601,51.84130096435547,56.2999992371,62.0635986328125,49.6233333,62.5625,52.26850128173828,58.40230178833008,-28.575001,-21.15959930419922,-4.251699924468993,-0.5313500165939331,-26.52899932861328,4.39847993850708,1.9054700136184688,-7.9696,-20.430201,-7.313269999999999,4.08919000626,-12.572799682617,-11.5337,-12.804699897766112,-20.88710021972656,-18.7969,-6.269899845123291,1.5431100130081177,1.6629400253295898,-19.79640007019043,-7.00478,13.847000122070312,-20.017401,-15.679100036621096,-29.462299346923828,12.5335,13.338000297546388,28.452699661254886,8.616439999999999,11.2878999710083,6.289060115814209,30.32500076293945,12.5556,16.711299896240234,10.350600242615,16.7414,8.97789001465,-3.3240199089050293,9.518170356750488,31.183900833129886,0.4044579863548279,28.79540061950684,-1.6771999597549438,19.1539001465,4.87201023102,-3.3677899837493896,0.042386,41.4146995544,42.56959915161133,34.875099182128906,42.5614013671875,50.96210098266602,47.095500946,37.9207,47.429759999999995,41.541401,45.900001525879,48.9463996887207,32.011398315429695,35.857498,47.843299865722656,38.883301,43.282901763916016,46.17660140991211,47.0839004517,39.9350013733,47.843056,41.18,36.1511993408,44.8184013367,42.359402,48.17020034790039,21.9175,19.198600769,15.47350025177002,15.7425,18.404199600219727,16.757099151611328,11.991000175476074,9.340849876403809,9.163949,13.4409,18.27109909057617,20.36529922485352,19.687000274658203,24.287700653076172,17.539100646972653,-18.830900192260746,-17.755399703979492,-21.241199493408203,1.3816399574279783,-13.2383003235,-13.829999923706056,-14.3310003281,-22.43409919738769,-17.699300765991,-21.05430030822754,-37.0080986023,-90.0,34.209999084472656,26.27079963684082,18.2404003143,30.371099471999997,31.7226009369,31.864700317382997,29.226600646972656,33.820899963378906,24.433000564575195,26.17099952697754,32.056098938000005,30.54910087585449,36.18069839477539,25.261101,14.17430019378662,13.584,7.064760208129883,28.20170021057129,7.461870193481445,7.367310000000001,24.4279,35.764701843299996,35.123173,14.5086,-31.2969,-8.348349571228027,-18.348499,-1.2120699882507324,-25.239999771118164,4.452780000000001,-22.7733001709,5.4528298378,4.819809913639999,-5.256770133972168,-34.7892,9.553375244140623,5.96592,17.1367,13.0746002197,15.336700439453123,14.590999603271484,18.099899291992,12.004199981689451,18.337299346923828,18.49489974975586,17.311199188232422,14.0202,12.5014,12.130999565124512,18.2048,11.149700164794922,18.444799423217773,12.699000000000002,43.35210037231445,43.0612983704,40.46749877929688,62.093299865722656,50.34500122070313,52.5270004272461,37.986801,38.5433006287,39.775001525878906,23.0771999359,7.180759906768799,12.255200386,21.45219993591309,22.308901,19.897300720214844,22.149599,27.505684999999996,27.4032001495,4.1918301582336435,13.9125995636,16.043899536132812,19.769199,-5.061629772186278,3.1238501071900004,4.944200038909912,-9.30331039428711,1.4252599477767944,-27.5702991486,-10.450599670410156,-29.04159927368164,40.0801010131836,39.224098,47.843102,70.13400268550001,56.51750183105469,55.89390182495117,40.1221008301,13.071800231933596,31.246400833129996,41.6102981567,14.662599563598633,32.363998413085945,-9.4280004501343,-0.547458,-8.525,-22.4799,11.547300338745115,16.791400909423828,16.7285995483,26.7318,-19.079030990600582,-12.1883001328,23.188800811767575,77.8969444,19.28210067749023],\"lon\":[145.391998291,-45.4259986877,-18.07270050048828,-84.5093994140625,2.814169883728028,2.384350061416626,-1.51242,-0.1667860001325607,-3.9262900352478023,7.263169765472412,7.1267499923706055,10.75469970703125,1.0912499427795408,4.46027994156,14.519722,24.208499908447266,23.424299240112,-6.21582984924,-2.21472,-2.1955099105834956,-4.623889923095703,-58.44720077514648,4.76389,-8.491109848022461,10.619000434899998,-7.277219772338867,6.204444400000001,6.119699954986572,20.910999298095703,15.525699615478516,16.5333,27.47450065612793,15.253000259399414,15.95009994506836,31.3075008392334,18.518800735473636,9.80568027496338,-14.3937,57.683601,72.411102,9.3605298996,27.893899917603,43.2719,45.28110122680664,55.51029968261719,47.478802,14.246999740600586,11.58139991760254,7.411739826202393,34.90760040283203,52.7262,20.84429931640625,28.617901,34.9739990234375,27.552499771118164,-7.94994,-16.65220069885254,-13.863800048828123,-13.1955,-15.180500030517578,-10.758700370788574,-9.41306972503662,-16.281799,-9.637880325317385,-13.569199562073,-22.9494,38.7993011475,29.318500518798828,44.08879852294922,29.94890022277832,35.23889923095703,22.080900192260746,29.258899688720703,30.4300994873,31.601100921599997,36.63330078125,32.443501,19.7206001282,27.515199661254886,33.62490081787109,18.268199920654297,1.954759955406189,-56.3802986145,21.292601,19.261093,15.7181,15.530200004578,14.427499771118164,34.88669967651367,14.4775,16.260099411010742,-9.0301,17.84589958190918,21.261999130249023,6.79284000397,32.7407989502,27.777222,20.7423,-5.3496599197400005,20.3090991974,19.2519,17.212699890136722,-71.939598,-69.42980194089999,-88.83719635009766,-86.852997,-76.96900177001953,-99.75399780273438,-83.77410125732422,-82.25080108642578,-83.33017099999999,-89.055702,-73.78829956054688,-74.5062026977539,-79.88279724121094,-77.68460083007812,-88.30819702148438,-159.76400756835938,177.4429931640625,-175.14999389648438,173.14700317382812,-176.19900512700002,-172.00799560546875,-170.710006714,-151.36099243164062,168.32000732422,164.83700561523438,174.792007446,0.0,62.22829818725586,50.63359832763672,42.65660095210001,48.2282981873,35.9931983948,35.219200134277,47.96889877319336,35.488399505615234,54.651100158691406,56.2406005859375,72.94840240479999,47.66210174560547,37.22439956665039,51.565102,145.2429962158203,144.929998,171.27200317382812,-177.38099670410156,151.84300231933594,134.544236,118.359001,140.386001587,126.805444,121.019997,-57.9966,-49.30149841308594,-70.338699,-78.57460021972656,-57.52000045776367,-75.7664,-64.31289672850001,-55.1878013611,-52.360401153599994,-79.44290161132812,-56.264702,-69.23786926269531,-58.270302,-61.792702,-59.4925003052,-61.3922004699707,-61.00320053100586,-63.047199249268,-61.78620147705078,-64.97339630126953,-67.12940216064453,-62.71870040893555,-60.992901,-70.015198,-68.26850128173828,-63.055099,-60.83219909667969,-64.54299926757811,-61.3424,77.04049682617188,74.4776000977,50.04669952392578,129.77099609375,30.89469909667969,31.016700744628903,58.361,68.8249969482,64.48329925537111,72.63469696039998,79.88410186767578,104.564002991,91.96389770507812,113.915001,102.16100311279295,113.592003,83.41629300000001,89.42459869380001,73.52909851074219,100.607002258,108.1989974975586,94.0261,119.5540008544922,113.019996643,114.9280014038086,125.28700256347656,103.81300354003906,153.007995605,105.69000244140624,167.93899536132812,116.58499908447266,125.669998,106.766998,-143.582000732,21.096900939941406,23.395000457763672,44.46500015260001,42.64500045776367,34.276100158691,41.5997009277,49.375,-64.67870330810547,160.05499267578,166.919006,179.195999,17.4709,43.15950012207031,-62.19329833984375,-169.533996582,-11.6847,-169.92559814453125,96.8339004517,94.05110168457033,16.725,166.63600158691406],\"marker\":{\"color\":[\"rgb(68, 1, 84)\"],\"colorbar\":{\"title\":{\"text\":\"First Case Date\"}},\"colorscale\":[[0.0,\"#440154\"],[0.1111111111111111,\"#482878\"],[0.2222222222222222,\"#3e4989\"],[0.3333333333333333,\"#31688e\"],[0.4444444444444444,\"#26828e\"],[0.5555555555555556,\"#1f9e89\"],[0.6666666666666666,\"#35b779\"],[0.7777777777777778,\"#6ece58\"],[0.8888888888888888,\"#b5de2b\"],[1.0,\"#fde725\"]],\"opacity\":0.7,\"size\":[1,1,1,1,1,1,1,1,1,1,1,1,1,1,1,1,1,1,1,1,1,1,1,1,1,1,1,1,1,1,1,1,1,1,1,1,1,1,1,1,1,1,1,1,1,1,1,1,1,1,1,1,1,1,1,1,1,1,1,1,1,1,1,1,1,1,1,1,1,1,1,1,1,1,1,1,1,1,1,1,1,1,1,1,1,1,1,1,1,1,1,1,1,1,1,1,1,1,1,1,1,1,1,1,1,1,1,1,1,1,1,1,1,1,1,1,1,1,1,1,1,1,1,1,1,1,1,1,1,1,1,1,1,1,1,1,1,1,1,1,1,1,1,1,1,1,1,1,1,1,1,1,1,1,1,1,1,1,1,1,1,1,1,1,1,1,1,1,1,1,1,1,1,1,1,1,1,1,1,1,1,1,1,1,1,1,1,1,1,1,1,1,1,1,1,1,1,1,1,1,1,1,1,1,1,1,1,1,1,1,1,1,1,1,1,1,1,1,1,1,1,1,1,1,1,1,1,1,1,1,1,1,1,1,1,1,1]},\"mode\":\"markers\",\"type\":\"scattergeo\"}],                        {\"template\":{\"data\":{\"histogram2dcontour\":[{\"type\":\"histogram2dcontour\",\"colorbar\":{\"outlinewidth\":0,\"ticks\":\"\"},\"colorscale\":[[0.0,\"#0d0887\"],[0.1111111111111111,\"#46039f\"],[0.2222222222222222,\"#7201a8\"],[0.3333333333333333,\"#9c179e\"],[0.4444444444444444,\"#bd3786\"],[0.5555555555555556,\"#d8576b\"],[0.6666666666666666,\"#ed7953\"],[0.7777777777777778,\"#fb9f3a\"],[0.8888888888888888,\"#fdca26\"],[1.0,\"#f0f921\"]]}],\"choropleth\":[{\"type\":\"choropleth\",\"colorbar\":{\"outlinewidth\":0,\"ticks\":\"\"}}],\"histogram2d\":[{\"type\":\"histogram2d\",\"colorbar\":{\"outlinewidth\":0,\"ticks\":\"\"},\"colorscale\":[[0.0,\"#0d0887\"],[0.1111111111111111,\"#46039f\"],[0.2222222222222222,\"#7201a8\"],[0.3333333333333333,\"#9c179e\"],[0.4444444444444444,\"#bd3786\"],[0.5555555555555556,\"#d8576b\"],[0.6666666666666666,\"#ed7953\"],[0.7777777777777778,\"#fb9f3a\"],[0.8888888888888888,\"#fdca26\"],[1.0,\"#f0f921\"]]}],\"heatmap\":[{\"type\":\"heatmap\",\"colorbar\":{\"outlinewidth\":0,\"ticks\":\"\"},\"colorscale\":[[0.0,\"#0d0887\"],[0.1111111111111111,\"#46039f\"],[0.2222222222222222,\"#7201a8\"],[0.3333333333333333,\"#9c179e\"],[0.4444444444444444,\"#bd3786\"],[0.5555555555555556,\"#d8576b\"],[0.6666666666666666,\"#ed7953\"],[0.7777777777777778,\"#fb9f3a\"],[0.8888888888888888,\"#fdca26\"],[1.0,\"#f0f921\"]]}],\"heatmapgl\":[{\"type\":\"heatmapgl\",\"colorbar\":{\"outlinewidth\":0,\"ticks\":\"\"},\"colorscale\":[[0.0,\"#0d0887\"],[0.1111111111111111,\"#46039f\"],[0.2222222222222222,\"#7201a8\"],[0.3333333333333333,\"#9c179e\"],[0.4444444444444444,\"#bd3786\"],[0.5555555555555556,\"#d8576b\"],[0.6666666666666666,\"#ed7953\"],[0.7777777777777778,\"#fb9f3a\"],[0.8888888888888888,\"#fdca26\"],[1.0,\"#f0f921\"]]}],\"contourcarpet\":[{\"type\":\"contourcarpet\",\"colorbar\":{\"outlinewidth\":0,\"ticks\":\"\"}}],\"contour\":[{\"type\":\"contour\",\"colorbar\":{\"outlinewidth\":0,\"ticks\":\"\"},\"colorscale\":[[0.0,\"#0d0887\"],[0.1111111111111111,\"#46039f\"],[0.2222222222222222,\"#7201a8\"],[0.3333333333333333,\"#9c179e\"],[0.4444444444444444,\"#bd3786\"],[0.5555555555555556,\"#d8576b\"],[0.6666666666666666,\"#ed7953\"],[0.7777777777777778,\"#fb9f3a\"],[0.8888888888888888,\"#fdca26\"],[1.0,\"#f0f921\"]]}],\"surface\":[{\"type\":\"surface\",\"colorbar\":{\"outlinewidth\":0,\"ticks\":\"\"},\"colorscale\":[[0.0,\"#0d0887\"],[0.1111111111111111,\"#46039f\"],[0.2222222222222222,\"#7201a8\"],[0.3333333333333333,\"#9c179e\"],[0.4444444444444444,\"#bd3786\"],[0.5555555555555556,\"#d8576b\"],[0.6666666666666666,\"#ed7953\"],[0.7777777777777778,\"#fb9f3a\"],[0.8888888888888888,\"#fdca26\"],[1.0,\"#f0f921\"]]}],\"mesh3d\":[{\"type\":\"mesh3d\",\"colorbar\":{\"outlinewidth\":0,\"ticks\":\"\"}}],\"scatter\":[{\"fillpattern\":{\"fillmode\":\"overlay\",\"size\":10,\"solidity\":0.2},\"type\":\"scatter\"}],\"parcoords\":[{\"type\":\"parcoords\",\"line\":{\"colorbar\":{\"outlinewidth\":0,\"ticks\":\"\"}}}],\"scatterpolargl\":[{\"type\":\"scatterpolargl\",\"marker\":{\"colorbar\":{\"outlinewidth\":0,\"ticks\":\"\"}}}],\"bar\":[{\"error_x\":{\"color\":\"#2a3f5f\"},\"error_y\":{\"color\":\"#2a3f5f\"},\"marker\":{\"line\":{\"color\":\"#E5ECF6\",\"width\":0.5},\"pattern\":{\"fillmode\":\"overlay\",\"size\":10,\"solidity\":0.2}},\"type\":\"bar\"}],\"scattergeo\":[{\"type\":\"scattergeo\",\"marker\":{\"colorbar\":{\"outlinewidth\":0,\"ticks\":\"\"}}}],\"scatterpolar\":[{\"type\":\"scatterpolar\",\"marker\":{\"colorbar\":{\"outlinewidth\":0,\"ticks\":\"\"}}}],\"histogram\":[{\"marker\":{\"pattern\":{\"fillmode\":\"overlay\",\"size\":10,\"solidity\":0.2}},\"type\":\"histogram\"}],\"scattergl\":[{\"type\":\"scattergl\",\"marker\":{\"colorbar\":{\"outlinewidth\":0,\"ticks\":\"\"}}}],\"scatter3d\":[{\"type\":\"scatter3d\",\"line\":{\"colorbar\":{\"outlinewidth\":0,\"ticks\":\"\"}},\"marker\":{\"colorbar\":{\"outlinewidth\":0,\"ticks\":\"\"}}}],\"scattermapbox\":[{\"type\":\"scattermapbox\",\"marker\":{\"colorbar\":{\"outlinewidth\":0,\"ticks\":\"\"}}}],\"scatterternary\":[{\"type\":\"scatterternary\",\"marker\":{\"colorbar\":{\"outlinewidth\":0,\"ticks\":\"\"}}}],\"scattercarpet\":[{\"type\":\"scattercarpet\",\"marker\":{\"colorbar\":{\"outlinewidth\":0,\"ticks\":\"\"}}}],\"carpet\":[{\"aaxis\":{\"endlinecolor\":\"#2a3f5f\",\"gridcolor\":\"white\",\"linecolor\":\"white\",\"minorgridcolor\":\"white\",\"startlinecolor\":\"#2a3f5f\"},\"baxis\":{\"endlinecolor\":\"#2a3f5f\",\"gridcolor\":\"white\",\"linecolor\":\"white\",\"minorgridcolor\":\"white\",\"startlinecolor\":\"#2a3f5f\"},\"type\":\"carpet\"}],\"table\":[{\"cells\":{\"fill\":{\"color\":\"#EBF0F8\"},\"line\":{\"color\":\"white\"}},\"header\":{\"fill\":{\"color\":\"#C8D4E3\"},\"line\":{\"color\":\"white\"}},\"type\":\"table\"}],\"barpolar\":[{\"marker\":{\"line\":{\"color\":\"#E5ECF6\",\"width\":0.5},\"pattern\":{\"fillmode\":\"overlay\",\"size\":10,\"solidity\":0.2}},\"type\":\"barpolar\"}],\"pie\":[{\"automargin\":true,\"type\":\"pie\"}]},\"layout\":{\"autotypenumbers\":\"strict\",\"colorway\":[\"#636efa\",\"#EF553B\",\"#00cc96\",\"#ab63fa\",\"#FFA15A\",\"#19d3f3\",\"#FF6692\",\"#B6E880\",\"#FF97FF\",\"#FECB52\"],\"font\":{\"color\":\"#2a3f5f\"},\"hovermode\":\"closest\",\"hoverlabel\":{\"align\":\"left\"},\"paper_bgcolor\":\"white\",\"plot_bgcolor\":\"#E5ECF6\",\"polar\":{\"bgcolor\":\"#E5ECF6\",\"angularaxis\":{\"gridcolor\":\"white\",\"linecolor\":\"white\",\"ticks\":\"\"},\"radialaxis\":{\"gridcolor\":\"white\",\"linecolor\":\"white\",\"ticks\":\"\"}},\"ternary\":{\"bgcolor\":\"#E5ECF6\",\"aaxis\":{\"gridcolor\":\"white\",\"linecolor\":\"white\",\"ticks\":\"\"},\"baxis\":{\"gridcolor\":\"white\",\"linecolor\":\"white\",\"ticks\":\"\"},\"caxis\":{\"gridcolor\":\"white\",\"linecolor\":\"white\",\"ticks\":\"\"}},\"coloraxis\":{\"colorbar\":{\"outlinewidth\":0,\"ticks\":\"\"}},\"colorscale\":{\"sequential\":[[0.0,\"#0d0887\"],[0.1111111111111111,\"#46039f\"],[0.2222222222222222,\"#7201a8\"],[0.3333333333333333,\"#9c179e\"],[0.4444444444444444,\"#bd3786\"],[0.5555555555555556,\"#d8576b\"],[0.6666666666666666,\"#ed7953\"],[0.7777777777777778,\"#fb9f3a\"],[0.8888888888888888,\"#fdca26\"],[1.0,\"#f0f921\"]],\"sequentialminus\":[[0.0,\"#0d0887\"],[0.1111111111111111,\"#46039f\"],[0.2222222222222222,\"#7201a8\"],[0.3333333333333333,\"#9c179e\"],[0.4444444444444444,\"#bd3786\"],[0.5555555555555556,\"#d8576b\"],[0.6666666666666666,\"#ed7953\"],[0.7777777777777778,\"#fb9f3a\"],[0.8888888888888888,\"#fdca26\"],[1.0,\"#f0f921\"]],\"diverging\":[[0,\"#8e0152\"],[0.1,\"#c51b7d\"],[0.2,\"#de77ae\"],[0.3,\"#f1b6da\"],[0.4,\"#fde0ef\"],[0.5,\"#f7f7f7\"],[0.6,\"#e6f5d0\"],[0.7,\"#b8e186\"],[0.8,\"#7fbc41\"],[0.9,\"#4d9221\"],[1,\"#276419\"]]},\"xaxis\":{\"gridcolor\":\"white\",\"linecolor\":\"white\",\"ticks\":\"\",\"title\":{\"standoff\":15},\"zerolinecolor\":\"white\",\"automargin\":true,\"zerolinewidth\":2},\"yaxis\":{\"gridcolor\":\"white\",\"linecolor\":\"white\",\"ticks\":\"\",\"title\":{\"standoff\":15},\"zerolinecolor\":\"white\",\"automargin\":true,\"zerolinewidth\":2},\"scene\":{\"xaxis\":{\"backgroundcolor\":\"#E5ECF6\",\"gridcolor\":\"white\",\"linecolor\":\"white\",\"showbackground\":true,\"ticks\":\"\",\"zerolinecolor\":\"white\",\"gridwidth\":2},\"yaxis\":{\"backgroundcolor\":\"#E5ECF6\",\"gridcolor\":\"white\",\"linecolor\":\"white\",\"showbackground\":true,\"ticks\":\"\",\"zerolinecolor\":\"white\",\"gridwidth\":2},\"zaxis\":{\"backgroundcolor\":\"#E5ECF6\",\"gridcolor\":\"white\",\"linecolor\":\"white\",\"showbackground\":true,\"ticks\":\"\",\"zerolinecolor\":\"white\",\"gridwidth\":2}},\"shapedefaults\":{\"line\":{\"color\":\"#2a3f5f\"}},\"annotationdefaults\":{\"arrowcolor\":\"#2a3f5f\",\"arrowhead\":0,\"arrowwidth\":1},\"geo\":{\"bgcolor\":\"white\",\"landcolor\":\"#E5ECF6\",\"subunitcolor\":\"white\",\"showland\":true,\"showlakes\":true,\"lakecolor\":\"white\"},\"title\":{\"x\":0.05},\"mapbox\":{\"style\":\"light\"}}},\"geo\":{\"projection\":{\"type\":\"equirectangular\"},\"scope\":\"world\",\"showland\":true,\"landcolor\":\"rgb(217, 217, 217)\",\"subunitwidth\":1,\"countrywidth\":1,\"subunitcolor\":\"rgb(255, 255, 255)\",\"countrycolor\":\"rgb(255, 255, 255)\"},\"title\":{\"text\":\"COVID-19 First Case Connections on World Map\"},\"showlegend\":false},                        {\"responsive\": true}                    ).then(function(){\n                            \nvar gd = document.getElementById('c7832998-cad4-492a-b615-79f322697a94');\nvar x = new MutationObserver(function (mutations, observer) {{\n        var display = window.getComputedStyle(gd).display;\n        if (!display || display === 'none') {{\n            console.log([gd, 'removed!']);\n            Plotly.purge(gd);\n            observer.disconnect();\n        }}\n}});\n\n// Listen for the removal of the full notebook cells\nvar notebookContainer = gd.closest('#notebook-container');\nif (notebookContainer) {{\n    x.observe(notebookContainer, {childList: true});\n}}\n\n// Listen for the clearing of the current output cell\nvar outputEl = gd.closest('.output');\nif (outputEl) {{\n    x.observe(outputEl, {childList: true});\n}}\n\n                        })                };                });            </script>        </div>"
     },
     "metadata": {},
     "output_type": "display_data"
    }
   ],
   "source": [
    "\n",
    "# Create the figure\n",
    "fig = go.Figure(data=edge_traces + [node_trace])\n",
    "\n",
    "fig.update_layout(\n",
    "    title='COVID-19 First Case Connections on World Map',\n",
    "    showlegend=False,\n",
    "    geo=dict(\n",
    "        scope='world',\n",
    "        projection_type='equirectangular',\n",
    "        showland=True,\n",
    "        landcolor='rgb(217, 217, 217)',\n",
    "        subunitwidth=1,\n",
    "        countrywidth=1,\n",
    "        subunitcolor=\"rgb(255, 255, 255)\",\n",
    "        countrycolor=\"rgb(255, 255, 255)\"\n",
    "    )\n",
    ")\n",
    "\n",
    "fig.show()"
   ],
   "metadata": {
    "collapsed": false,
    "ExecuteTime": {
     "end_time": "2024-05-30T16:07:40.079046Z",
     "start_time": "2024-05-30T16:07:40.061499Z"
    }
   },
   "id": "a3e226e1d5a6bfce",
   "execution_count": 16
  },
  {
   "cell_type": "code",
   "outputs": [],
   "source": [],
   "metadata": {
    "collapsed": false,
    "ExecuteTime": {
     "end_time": "2024-05-30T16:07:40.080913Z",
     "start_time": "2024-05-30T16:07:40.079659Z"
    }
   },
   "id": "96356abf233d7bc9",
   "execution_count": 16
  }
 ],
 "metadata": {
  "kernelspec": {
   "display_name": "Python 3",
   "language": "python",
   "name": "python3"
  },
  "language_info": {
   "codemirror_mode": {
    "name": "ipython",
    "version": 2
   },
   "file_extension": ".py",
   "mimetype": "text/x-python",
   "name": "python",
   "nbconvert_exporter": "python",
   "pygments_lexer": "ipython2",
   "version": "2.7.6"
  }
 },
 "nbformat": 4,
 "nbformat_minor": 5
}
